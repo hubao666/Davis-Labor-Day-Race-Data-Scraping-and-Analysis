{
 "cells": [
  {
   "cell_type": "markdown",
   "metadata": {},
   "source": [
    "Import libraries"
   ]
  },
  {
   "cell_type": "code",
   "execution_count": 1,
   "metadata": {},
   "outputs": [
    {
     "name": "stderr",
     "output_type": "stream",
     "text": [
      "/Users/baohu/Library/Python/3.9/lib/python/site-packages/urllib3/__init__.py:34: NotOpenSSLWarning: urllib3 v2.0 only supports OpenSSL 1.1.1+, currently the 'ssl' module is compiled with 'LibreSSL 2.8.3'. See: https://github.com/urllib3/urllib3/issues/3020\n",
      "  warnings.warn(\n"
     ]
    }
   ],
   "source": [
    "import requests\n",
    "import pandas as pd\n",
    "from bs4 import BeautifulSoup\n",
    "import re\n"
   ]
  },
  {
   "cell_type": "markdown",
   "metadata": {},
   "source": [
    "request and parse to html file"
   ]
  },
  {
   "cell_type": "code",
   "execution_count": 51,
   "metadata": {},
   "outputs": [],
   "source": [
    "\n",
    "URL_10k_p2_2023 = 'https://results.changeofpace.com/results.aspx?CId=16356&RId=6024'\n",
    "response = requests.get(URL_10k_p2_2023)\n",
    "response.raise_for_status()"
   ]
  },
  {
   "cell_type": "markdown",
   "metadata": {},
   "source": [
    "### Develop get_ages(response)"
   ]
  },
  {
   "cell_type": "code",
   "execution_count": 52,
   "metadata": {},
   "outputs": [
    {
     "data": {
      "text/plain": [
       "0            107\n",
       "1              1\n",
       "2             47\n",
       "3              1\n",
       "4     6:07 min/m\n",
       "5            141\n",
       "6              1\n",
       "7             26\n",
       "8              2\n",
       "9     6:18 min/m\n",
       "10           190\n",
       "11             1\n",
       "12            23\n",
       "13             3\n",
       "14    6:23 min/m\n",
       "15           184\n",
       "16             1\n",
       "17            43\n",
       "18             4\n",
       "19    6:27 min/m\n",
       "dtype: object"
      ]
     },
     "execution_count": 52,
     "metadata": {},
     "output_type": "execute_result"
    }
   ],
   "source": [
    "soup = BeautifulSoup(response.content, \"html.parser\")\n",
    "ages = soup.find_all('td' ,class_ = 'd-none d-sm-table-cell')\n",
    "extracted_values = [age.get_text() for age in ages]\n",
    "value_series = pd.Series(extracted_values)\n",
    "value_series.head(20)"
   ]
  },
  {
   "cell_type": "markdown",
   "metadata": {},
   "source": [
    "The accurate age values are: 71, 39, 26, 58... Upon close examination, it appears that the correct age sequence begins at index 3 and is interspersed with every 4 non-age values."
   ]
  },
  {
   "cell_type": "code",
   "execution_count": 54,
   "metadata": {},
   "outputs": [
    {
     "data": {
      "text/plain": [
       "0    47\n",
       "1    26\n",
       "2    23\n",
       "3    43\n",
       "4    41\n",
       "dtype: int64"
      ]
     },
     "execution_count": 54,
     "metadata": {},
     "output_type": "execute_result"
    }
   ],
   "source": [
    "numeric_age_data = pd.to_numeric(value_series, errors='coerce').dropna()\n",
    "correct_data = numeric_age_data.iloc[2::4]\n",
    "correct_data.reset_index(drop=True, inplace=True)\n",
    "correct_data = correct_data.astype(int)\n",
    "correct_data.head()"
   ]
  },
  {
   "cell_type": "markdown",
   "metadata": {},
   "source": [
    "### Develop get_times(response)"
   ]
  },
  {
   "cell_type": "code",
   "execution_count": 20,
   "metadata": {},
   "outputs": [
    {
     "data": {
      "text/plain": [
       "0    53:00.21\n",
       "1    53:00.21\n",
       "2    53:07.43\n",
       "3    53:02.35\n",
       "4    53:17.77\n",
       "5    53:07.10\n",
       "6    53:17.56\n",
       "7    53:09.97\n",
       "8    53:38.30\n",
       "9    53:19.90\n",
       "dtype: object"
      ]
     },
     "execution_count": 20,
     "metadata": {},
     "output_type": "execute_result"
    }
   ],
   "source": [
    "soup = BeautifulSoup(response.content, \"html.parser\")\n",
    "values = soup.find_all('td' ,class_ = 'd-none d-sm-table-cell ltw-time')\n",
    "extracted_values = [time.get_text() for time in values]\n",
    "value_series = pd.Series(extracted_values)\n",
    "value_series.head(10)"
   ]
  },
  {
   "cell_type": "markdown",
   "metadata": {},
   "source": [
    "similar to get_ages(), we only want the time value starting at index 1 and every other 1 value. In the actual dataset, the first time value is \"gun time\", and the second data is \"net time\", we only interested in \"net time\""
   ]
  },
  {
   "cell_type": "code",
   "execution_count": 21,
   "metadata": {},
   "outputs": [
    {
     "data": {
      "text/plain": [
       "0    53:00.21\n",
       "1    53:02.35\n",
       "2    53:07.10\n",
       "3    53:09.97\n",
       "4    53:19.90\n",
       "dtype: object"
      ]
     },
     "execution_count": 21,
     "metadata": {},
     "output_type": "execute_result"
    }
   ],
   "source": [
    "correct_data = value_series.iloc[1::2]\n",
    "correct_data.reset_index(drop=True, inplace=True)\n",
    "correct_data.head()"
   ]
  },
  {
   "cell_type": "markdown",
   "metadata": {},
   "source": [
    "### Develop get_gender(response)"
   ]
  },
  {
   "cell_type": "code",
   "execution_count": 22,
   "metadata": {},
   "outputs": [
    {
     "data": {
      "text/plain": [
       "0                  Mike Cordano\n",
       "1                     70-79 Yrs\n",
       "2                          Male\n",
       "3    Hortensia Cisneros Benftez\n",
       "4                     30-39 Yrs\n",
       "5                        Female\n",
       "dtype: object"
      ]
     },
     "execution_count": 22,
     "metadata": {},
     "output_type": "execute_result"
    }
   ],
   "source": [
    "soup = BeautifulSoup(response.content, \"html.parser\")\n",
    "values = soup.find_all('a', class_ = 'ltw-name')\n",
    "extracted_values = [value.get_text() for value in values]\n",
    "value_series = pd.Series(extracted_values)\n",
    "value_series.head(6)"
   ]
  },
  {
   "cell_type": "markdown",
   "metadata": {},
   "source": [
    "same, need to extract gender"
   ]
  },
  {
   "cell_type": "code",
   "execution_count": 23,
   "metadata": {},
   "outputs": [
    {
     "data": {
      "text/plain": [
       "0      Male\n",
       "1    Female\n",
       "2      Male\n",
       "3      Male\n",
       "4      Male\n",
       "dtype: object"
      ]
     },
     "execution_count": 23,
     "metadata": {},
     "output_type": "execute_result"
    }
   ],
   "source": [
    "correct_data = value_series.iloc[2::3]\n",
    "correct_data.reset_index(drop=True, inplace=True)\n",
    "correct_data.head()"
   ]
  },
  {
   "cell_type": "markdown",
   "metadata": {},
   "source": [
    "### Develop get_overall_pos(response)"
   ]
  },
  {
   "cell_type": "code",
   "execution_count": 37,
   "metadata": {},
   "outputs": [
    {
     "name": "stderr",
     "output_type": "stream",
     "text": [
      "/var/folders/32/3mmqs6sj1kb06qpdnfgb3cch0000gn/T/ipykernel_8122/2328599500.py:2: DeprecationWarning: The 'text' argument to find()-type methods is deprecated. Use 'string' instead.\n",
      "  numeric_td_tags = soup.find_all('td', text=re.compile(r'\\b\\d+\\b'))\n"
     ]
    },
    {
     "data": {
      "text/plain": [
       "0    51\n",
       "1    52\n",
       "2    53\n",
       "3    54\n",
       "4    55\n",
       "dtype: object"
      ]
     },
     "execution_count": 37,
     "metadata": {},
     "output_type": "execute_result"
    }
   ],
   "source": [
    "soup = BeautifulSoup(response.content, \"html.parser\")\n",
    "numeric_td_tags = soup.find_all('td', text=re.compile(r'\\b\\d+\\b'))\n",
    "extracted_values = [value.get_text() for value in numeric_td_tags]\n",
    "value_series = pd.Series(extracted_values)\n",
    "value_series.head(30)\n",
    "correct_data = value_series.iloc[5::8]\n",
    "correct_data.reset_index(drop=True, inplace=True)\n",
    "correct_data.head()"
   ]
  },
  {
   "cell_type": "markdown",
   "metadata": {},
   "source": [
    "### Develop get_last_name(response)"
   ]
  },
  {
   "cell_type": "code",
   "execution_count": 50,
   "metadata": {},
   "outputs": [
    {
     "data": {
      "text/plain": [
       "0      Mcsorley\n",
       "1       Michael\n",
       "2    California\n",
       "3    Sacramento\n",
       "4          Male\n",
       "dtype: object"
      ]
     },
     "execution_count": 50,
     "metadata": {},
     "output_type": "execute_result"
    }
   ],
   "source": [
    "soup = BeautifulSoup(response.content, \"html.parser\")\n",
    "values = soup.find_all('td', class_ = 'ltw-cell-left d-none d-sm-table-cell')\n",
    "extracted_names = [name.get_text() for name in values]\n",
    "value_series = pd.Series(extracted_names)\n",
    "value_series.head(20)\n",
    "correct_data = value_series.iloc[1::5]\n",
    "correct_data.reset_index(drop=True, inplace=True)\n",
    "correct_data.head()"
   ]
  }
 ],
 "metadata": {
  "kernelspec": {
   "display_name": "Python 3",
   "language": "python",
   "name": "python3"
  },
  "language_info": {
   "codemirror_mode": {
    "name": "ipython",
    "version": 3
   },
   "file_extension": ".py",
   "mimetype": "text/x-python",
   "name": "python",
   "nbconvert_exporter": "python",
   "pygments_lexer": "ipython3",
   "version": "3.9.6"
  }
 },
 "nbformat": 4,
 "nbformat_minor": 2
}
