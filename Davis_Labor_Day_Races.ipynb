{
 "cells": [
  {
   "cell_type": "markdown",
   "metadata": {},
   "source": [
    "## Data Scraping\n",
    "#### Import libraries"
   ]
  },
  {
   "cell_type": "code",
   "execution_count": 2,
   "metadata": {},
   "outputs": [
    {
     "name": "stderr",
     "output_type": "stream",
     "text": [
      "/Users/baohu/Library/Python/3.9/lib/python/site-packages/urllib3/__init__.py:34: NotOpenSSLWarning: urllib3 v2.0 only supports OpenSSL 1.1.1+, currently the 'ssl' module is compiled with 'LibreSSL 2.8.3'. See: https://github.com/urllib3/urllib3/issues/3020\n",
      "  warnings.warn(\n"
     ]
    }
   ],
   "source": [
    "import requests\n",
    "import pandas as pd\n",
    "from bs4 import BeautifulSoup\n",
    "import numpy as np\n",
    "import re\n"
   ]
  },
  {
   "cell_type": "markdown",
   "metadata": {},
   "source": [
    "#### Getter Function Implementations"
   ]
  },
  {
   "cell_type": "code",
   "execution_count": 3,
   "metadata": {},
   "outputs": [],
   "source": [
    "def get_names(response):\n",
    "    soup = BeautifulSoup(response.content, \"html.parser\")\n",
    "    values = soup.find_all('a', class_ = 'ltw-name', target = '_blank')\n",
    "    extracted_names = [name.get_text() for name in values]\n",
    "    names_series = pd.Series(extracted_names)\n",
    "    return names_series\n",
    "\n",
    "def get_ages(response, year):\n",
    "    soup = BeautifulSoup(response.content, \"html.parser\")\n",
    "    values = soup.find_all('td' ,class_ = 'd-none d-sm-table-cell')\n",
    "    extracted_values = [age.get_text() for age in values]\n",
    "    value_series = pd.Series(extracted_values)\n",
    "    numeric_age_data = pd.to_numeric(value_series, errors='coerce')\n",
    "    if (year == 2023):\n",
    "        correct_age_data = numeric_age_data.iloc[3::5]\n",
    "    elif(year == 2022):\n",
    "        correct_age_data = numeric_age_data.iloc[2::5]\n",
    "    elif(year == 2019):\n",
    "        correct_age_data = numeric_age_data.iloc[4::8]\n",
    "    elif (year == 2018):\n",
    "        correct_age_data = numeric_age_data.iloc[4::8]\n",
    "    elif (year == 2017 or year == 2016):\n",
    "        correct_age_data = numeric_age_data.iloc[2::5]\n",
    "    elif (year == 2015 or year == 2014):\n",
    "        correct_age_data = numeric_age_data.iloc[2::5]\n",
    "    elif (year == 2013):\n",
    "        correct_age_data = numeric_age_data.iloc[2::5]\n",
    "    \n",
    "    correct_age_data.reset_index(drop=True, inplace=True)\n",
    "    correct_age_data = correct_age_data.astype(int)\n",
    "    return correct_age_data\n",
    "\n",
    "def get_times(response, year):\n",
    "    soup = BeautifulSoup(response.content, \"html.parser\")\n",
    "    values = soup.find_all('td' ,class_ = 'd-none d-sm-table-cell ltw-time')\n",
    "    extracted_values = [time.get_text() for time in values]\n",
    "    value_series = pd.Series(extracted_values)\n",
    "    correct_time_data = value_series.iloc[1::2]\n",
    "    if (year == 2015 or year == 2014):\n",
    "        correct_time_data = value_series.iloc[0::2]\n",
    "    elif (year == 2013):\n",
    "        correct_time_data = value_series.iloc[0::2]\n",
    "\n",
    "    correct_time_data.reset_index(drop=True, inplace=True)\n",
    "    return correct_time_data\n",
    "\n",
    "def get_gender(response):\n",
    "    soup = BeautifulSoup(response.content, \"html.parser\")\n",
    "    values = soup.find_all('a', class_ = 'ltw-name')\n",
    "    extracted_values = [value.get_text() for value in values]\n",
    "    value_series = pd.Series(extracted_values)\n",
    "    correct_gender_data = value_series.iloc[2::3]\n",
    "    correct_gender_data.reset_index(drop=True, inplace=True)\n",
    "    return correct_gender_data\n"
   ]
  },
  {
   "cell_type": "markdown",
   "metadata": {},
   "source": [
    "#### Dataframe Generating Function"
   ]
  },
  {
   "cell_type": "code",
   "execution_count": 4,
   "metadata": {},
   "outputs": [],
   "source": [
    "def generate_dataframe(URL, distance, year):\n",
    "    response = requests.get(URL)\n",
    "    response.raise_for_status()\n",
    "    names = get_names(response)\n",
    "    ages = get_ages(response, year)\n",
    "    times = get_times(response, year)\n",
    "    genders = get_gender(response)\n",
    "    df = pd.DataFrame({\n",
    "                       'Name': names, \n",
    "                       'Age': ages, \n",
    "                       'Time': times, \n",
    "                       'Gender': genders,\n",
    "                       'Distance':distance, \n",
    "                       'Year':year\n",
    "                       })\n",
    "    return df\n",
    "    "
   ]
  },
  {
   "cell_type": "markdown",
   "metadata": {},
   "source": [
    "#### URLs"
   ]
  },
  {
   "cell_type": "code",
   "execution_count": 5,
   "metadata": {},
   "outputs": [],
   "source": [
    "url_5K_2023 = ['https://results.changeofpace.com/results.aspx?CId=16356&RId=6121&EId=1',\n",
    "               'https://results.changeofpace.com/results.aspx?CId=16356&RId=6121&EId=1&dt=0&PageNo=2',\n",
    "               'https://results.changeofpace.com/results.aspx?CId=16356&RId=6121&EId=1&dt=0&PageNo=3',\n",
    "               'https://results.changeofpace.com/results.aspx?CId=16356&RId=6121&EId=1&dt=0&PageNo=4',\n",
    "               'https://results.changeofpace.com/results.aspx?CId=16356&RId=6121&EId=1&dt=0&PageNo=5',\n",
    "               'https://results.changeofpace.com/results.aspx?CId=16356&RId=6121&EId=1&dt=0&PageNo=6',\n",
    "               'https://results.changeofpace.com/results.aspx?CId=16356&RId=6121&EId=1&dt=0&PageNo=7',\n",
    "               'https://results.changeofpace.com/results.aspx?CId=16356&RId=6121&EId=1&dt=0&PageNo=8',\n",
    "               'https://results.changeofpace.com/results.aspx?CId=16356&RId=6121&EId=1&dt=0&PageNo=9',]\n",
    "url_10K_2023 = ['https://results.changeofpace.com/results.aspx?CId=16356&RId=6121&EId=2',\n",
    "                'https://results.changeofpace.com/results.aspx?CId=16356&RId=6121&EId=2&dt=0&PageNo=2',\n",
    "                'https://results.changeofpace.com/results.aspx?CId=16356&RId=6121&EId=2&dt=0&PageNo=3',\n",
    "                'https://results.changeofpace.com/results.aspx?CId=16356&RId=6121&EId=2&dt=0&PageNo=4',\n",
    "                'https://results.changeofpace.com/results.aspx?CId=16356&RId=6121&EId=2&dt=0&PageNo=5',]\n",
    "url_5K_2022 = ['https://results.changeofpace.com/results.aspx?CId=16356&RId=6103',\n",
    "               'https://results.changeofpace.com/results.aspx?CId=16356&RId=6103&EId=1&dt=0&PageNo=2',\n",
    "               'https://results.changeofpace.com/results.aspx?CId=16356&RId=6103&EId=1&dt=0&PageNo=3',\n",
    "               'https://results.changeofpace.com/results.aspx?CId=16356&RId=6103&EId=1&dt=0&PageNo=4',\n",
    "               'https://results.changeofpace.com/results.aspx?CId=16356&RId=6103&EId=1&dt=0&PageNo=5',\n",
    "               'https://results.changeofpace.com/results.aspx?CId=16356&RId=6103&EId=1&dt=0&PageNo=6',\n",
    "               'https://results.changeofpace.com/results.aspx?CId=16356&RId=6103&EId=1&dt=0&PageNo=7',]\n",
    "url_10K_2022 = ['https://results.changeofpace.com/results.aspx?CId=16356&RId=6103&EId=2',\n",
    "                'https://results.changeofpace.com/results.aspx?CId=16356&RId=6103&EId=2&dt=0&PageNo=2',\n",
    "                'https://results.changeofpace.com/results.aspx?CId=16356&RId=6103&EId=2&dt=0&PageNo=3',\n",
    "                'https://results.changeofpace.com/results.aspx?CId=16356&RId=6103&EId=2&dt=0&PageNo=4',]\n",
    "url_5K_2019 = ['https://results.changeofpace.com/results.aspx?CId=16356&RId=6072',\n",
    "               'https://results.changeofpace.com/results.aspx?CId=16356&RId=6072&EId=1&dt=0&PageNo=2',\n",
    "               'https://results.changeofpace.com/results.aspx?CId=16356&RId=6072&EId=1&dt=0&PageNo=3',\n",
    "               'https://results.changeofpace.com/results.aspx?CId=16356&RId=6072&EId=1&dt=0&PageNo=4',\n",
    "               'https://results.changeofpace.com/results.aspx?CId=16356&RId=6072&EId=1&dt=0&PageNo=5',\n",
    "               'https://results.changeofpace.com/results.aspx?CId=16356&RId=6072&EId=1&dt=0&PageNo=6',]\n",
    "url_10K_2019 = ['https://results.changeofpace.com/results.aspx?CId=16356&RId=6072&EId=2',\n",
    "                'https://results.changeofpace.com/results.aspx?CId=16356&RId=6072&EId=2&dt=0&PageNo=2',\n",
    "                'https://results.changeofpace.com/results.aspx?CId=16356&RId=6072&EId=2&dt=0&PageNo=3',\n",
    "                'https://results.changeofpace.com/results.aspx?CId=16356&RId=6072&EId=2&dt=0&PageNo=4',]\n",
    "url_5K_2018 = ['https://results.changeofpace.com/results.aspx?CId=16356&RId=6047',\n",
    "               'https://results.changeofpace.com/results.aspx?CId=16356&RId=6047&EId=1&dt=0&PageNo=2',\n",
    "               'https://results.changeofpace.com/results.aspx?CId=16356&RId=6047&EId=1&dt=0&PageNo=3',\n",
    "               'https://results.changeofpace.com/results.aspx?CId=16356&RId=6047&EId=1&dt=0&PageNo=4',\n",
    "               'https://results.changeofpace.com/results.aspx?CId=16356&RId=6047&EId=1&dt=0&PageNo=5',\n",
    "               'https://results.changeofpace.com/results.aspx?CId=16356&RId=6047&EId=1&dt=0&PageNo=6',\n",
    "               'https://results.changeofpace.com/results.aspx?CId=16356&RId=6047&EId=1&dt=0&PageNo=7',]\n",
    "url_10K_2018 = ['https://results.changeofpace.com/results.aspx?CId=16356&RId=6047&EId=2',\n",
    "                'https://results.changeofpace.com/results.aspx?CId=16356&RId=6047&EId=2&dt=0&PageNo=2',\n",
    "                'https://results.changeofpace.com/results.aspx?CId=16356&RId=6047&EId=2&dt=0&PageNo=3',\n",
    "                'https://results.changeofpace.com/results.aspx?CId=16356&RId=6047&EId=2&dt=0&PageNo=4',\n",
    "                'https://results.changeofpace.com/results.aspx?CId=16356&RId=6047&EId=2&dt=0&PageNo=5',]\n",
    "url_5K_2017 = ['https://results.changeofpace.com/results.aspx?CId=16356&RId=6024',\n",
    "               'https://results.changeofpace.com/results.aspx?CId=16356&RId=6024&EId=1&dt=0&PageNo=2',\n",
    "               'https://results.changeofpace.com/results.aspx?CId=16356&RId=6024&EId=1&dt=0&PageNo=3',\n",
    "               'https://results.changeofpace.com/results.aspx?CId=16356&RId=6024&EId=1&dt=0&PageNo=4',]\n",
    "url_10K_2017 = ['https://results.changeofpace.com/results.aspx?CId=16356&RId=6024&EId=2',\n",
    "                'https://results.changeofpace.com/results.aspx?CId=16356&RId=6024&EId=2&dt=0&PageNo=2',\n",
    "                'https://results.changeofpace.com/results.aspx?CId=16356&RId=6024&EId=2&dt=0&PageNo=3',]\n",
    "url_5K_2016 = ['https://results.changeofpace.com/results.aspx?CId=16356&RId=188',\n",
    "               'https://results.changeofpace.com/results.aspx?CId=16356&RId=188&EId=1&dt=0&PageNo=2',\n",
    "               'https://results.changeofpace.com/results.aspx?CId=16356&RId=188&EId=1&dt=0&PageNo=3',\n",
    "               'https://results.changeofpace.com/results.aspx?CId=16356&RId=188&EId=1&dt=0&PageNo=4',\n",
    "               'https://results.changeofpace.com/results.aspx?CId=16356&RId=188&EId=1&dt=0&PageNo=5',\n",
    "               'https://results.changeofpace.com/results.aspx?CId=16356&RId=188&EId=1&dt=0&PageNo=6',]\n",
    "url_10K_2016 = ['https://results.changeofpace.com/results.aspx?CId=16356&RId=188&EId=2',\n",
    "                'https://results.changeofpace.com/results.aspx?CId=16356&RId=188&EId=2&dt=0&PageNo=2',\n",
    "                'https://results.changeofpace.com/results.aspx?CId=16356&RId=188&EId=2&dt=0&PageNo=3',\n",
    "                'https://results.changeofpace.com/results.aspx?CId=16356&RId=188&EId=2&dt=0&PageNo=4',]\n",
    "url_5K_2015 = ['https://results.changeofpace.com/results.aspx?CId=16356&RId=148',\n",
    "               'https://results.changeofpace.com/results.aspx?CId=16356&RId=148&EId=1&dt=0&PageNo=2',\n",
    "               'https://results.changeofpace.com/results.aspx?CId=16356&RId=148&EId=1&dt=0&PageNo=3',\n",
    "               'https://results.changeofpace.com/results.aspx?CId=16356&RId=148&EId=1&dt=0&PageNo=4',\n",
    "               'https://results.changeofpace.com/results.aspx?CId=16356&RId=148&EId=1&dt=0&PageNo=5',\n",
    "               'https://results.changeofpace.com/results.aspx?CId=16356&RId=148&EId=1&dt=0&PageNo=6',\n",
    "               'https://results.changeofpace.com/results.aspx?CId=16356&RId=148&EId=1&dt=0&PageNo=7',]\n",
    "url_10K_2015 = ['https://results.changeofpace.com/results.aspx?CId=16356&RId=148&EId=2',\n",
    "                'https://results.changeofpace.com/results.aspx?CId=16356&RId=148&EId=2&dt=0&PageNo=2',\n",
    "                'https://results.changeofpace.com/results.aspx?CId=16356&RId=148&EId=2&dt=0&PageNo=3',\n",
    "                'https://results.changeofpace.com/results.aspx?CId=16356&RId=148&EId=2&dt=0&PageNo=4',\n",
    "                'https://results.changeofpace.com/results.aspx?CId=16356&RId=148&EId=2&dt=0&PageNo=5',\n",
    "                'https://results.changeofpace.com/results.aspx?CId=16356&RId=148&EId=2&dt=0&PageNo=6',\n",
    "                'https://results.changeofpace.com/results.aspx?CId=16356&RId=148&EId=2&dt=0&PageNo=7',]\n",
    "url_5K_2014 = ['https://results.changeofpace.com/results.aspx?CId=16356&RId=92',\n",
    "               'https://results.changeofpace.com/results.aspx?CId=16356&RId=92&EId=1&dt=0&PageNo=2',\n",
    "               'https://results.changeofpace.com/results.aspx?CId=16356&RId=92&EId=1&dt=0&PageNo=3',\n",
    "               'https://results.changeofpace.com/results.aspx?CId=16356&RId=92&EId=1&dt=0&PageNo=4',\n",
    "               'https://results.changeofpace.com/results.aspx?CId=16356&RId=92&EId=1&dt=0&PageNo=5',\n",
    "               'https://results.changeofpace.com/results.aspx?CId=16356&RId=92&EId=1&dt=0&PageNo=6',\n",
    "               'https://results.changeofpace.com/results.aspx?CId=16356&RId=92&EId=1&dt=0&PageNo=7',\n",
    "               'https://results.changeofpace.com/results.aspx?CId=16356&RId=92&EId=1&dt=0&PageNo=8',]\n",
    "url_10K_2014 = ['https://results.changeofpace.com/results.aspx?CId=16356&RId=92&EId=2',\n",
    "                'https://results.changeofpace.com/results.aspx?CId=16356&RId=92&EId=2&dt=0&PageNo=2',\n",
    "                'https://results.changeofpace.com/results.aspx?CId=16356&RId=92&EId=2&dt=0&PageNo=3',\n",
    "                'https://results.changeofpace.com/results.aspx?CId=16356&RId=92&EId=2&dt=0&PageNo=4',\n",
    "                'https://results.changeofpace.com/results.aspx?CId=16356&RId=92&EId=2&dt=0&PageNo=5',\n",
    "                'https://results.changeofpace.com/results.aspx?CId=16356&RId=92&EId=2&dt=0&PageNo=6',\n",
    "                'https://results.changeofpace.com/results.aspx?CId=16356&RId=92&EId=2&dt=0&PageNo=7',]\n",
    "url_5K_2013 = ['https://results.changeofpace.com/results.aspx?CId=16356&RId=30',]\n",
    "url_10K_2013 = ['https://results.changeofpace.com/results.aspx?CId=16356&RId=30&EId=2',]"
   ]
  },
  {
   "cell_type": "markdown",
   "metadata": {},
   "source": [
    "#### Create Dataframe from all the URLs"
   ]
  },
  {
   "cell_type": "code",
   "execution_count": 6,
   "metadata": {},
   "outputs": [],
   "source": [
    "years = [2023, 2022, 2019, 2018, 2017, 2016, 2015, 2014, 2013]\n",
    "doc_types = ['5K', '10K']\n",
    "dfs = {f\"df_{year}_{doc_type}\": pd.DataFrame() for year in years for doc_type in doc_types}\n",
    "for year in years:\n",
    "    for doc_type in doc_types:\n",
    "        for url in globals()[f\"url_{doc_type}_{year}\"]:\n",
    "            df = generate_dataframe(url, doc_type, year)\n",
    "            dfs[f\"df_{year}_{doc_type}\"] = pd.concat([dfs[f\"df_{year}_{doc_type}\"], df], ignore_index=True)\n",
    "all_dfs = pd.concat(dfs.values(),axis=0)"
   ]
  },
  {
   "cell_type": "markdown",
   "metadata": {},
   "source": [
    "#### Store as a `csv` File"
   ]
  },
  {
   "cell_type": "code",
   "execution_count": 7,
   "metadata": {},
   "outputs": [],
   "source": [
    "all_dfs.to_csv('data/all_data.csv', index=False)"
   ]
  },
  {
   "cell_type": "markdown",
   "metadata": {},
   "source": [
    "## Data Processing"
   ]
  },
  {
   "cell_type": "markdown",
   "metadata": {},
   "source": [
    "Load dataframe"
   ]
  },
  {
   "cell_type": "code",
   "execution_count": 29,
   "metadata": {},
   "outputs": [],
   "source": [
    "df = pd.read_csv('data/all_data.csv')"
   ]
  },
  {
   "cell_type": "markdown",
   "metadata": {},
   "source": [
    "Reset index"
   ]
  },
  {
   "cell_type": "code",
   "execution_count": 30,
   "metadata": {},
   "outputs": [
    {
     "data": {
      "text/html": [
       "<div>\n",
       "<style scoped>\n",
       "    .dataframe tbody tr th:only-of-type {\n",
       "        vertical-align: middle;\n",
       "    }\n",
       "\n",
       "    .dataframe tbody tr th {\n",
       "        vertical-align: top;\n",
       "    }\n",
       "\n",
       "    .dataframe thead th {\n",
       "        text-align: right;\n",
       "    }\n",
       "</style>\n",
       "<table border=\"1\" class=\"dataframe\">\n",
       "  <thead>\n",
       "    <tr style=\"text-align: right;\">\n",
       "      <th></th>\n",
       "      <th>Name</th>\n",
       "      <th>Age</th>\n",
       "      <th>Time</th>\n",
       "      <th>Gender</th>\n",
       "      <th>Distance</th>\n",
       "      <th>Year</th>\n",
       "    </tr>\n",
       "  </thead>\n",
       "  <tbody>\n",
       "    <tr>\n",
       "      <th>1</th>\n",
       "      <td>William Liu</td>\n",
       "      <td>19</td>\n",
       "      <td>16:15.33</td>\n",
       "      <td>Male</td>\n",
       "      <td>5K</td>\n",
       "      <td>2023</td>\n",
       "    </tr>\n",
       "  </tbody>\n",
       "</table>\n",
       "</div>"
      ],
      "text/plain": [
       "          Name  Age      Time Gender Distance  Year\n",
       "1  William Liu   19  16:15.33   Male       5K  2023"
      ]
     },
     "execution_count": 30,
     "metadata": {},
     "output_type": "execute_result"
    }
   ],
   "source": [
    "df.index = np.arange(1, len(df) + 1)\n",
    "df.head(1)"
   ]
  },
  {
   "cell_type": "markdown",
   "metadata": {},
   "source": [
    "#### Add Columns to Dataframe"
   ]
  },
  {
   "cell_type": "markdown",
   "metadata": {},
   "source": [
    "add `Age_group` column"
   ]
  },
  {
   "cell_type": "code",
   "execution_count": 31,
   "metadata": {},
   "outputs": [
    {
     "data": {
      "text/html": [
       "<div>\n",
       "<style scoped>\n",
       "    .dataframe tbody tr th:only-of-type {\n",
       "        vertical-align: middle;\n",
       "    }\n",
       "\n",
       "    .dataframe tbody tr th {\n",
       "        vertical-align: top;\n",
       "    }\n",
       "\n",
       "    .dataframe thead th {\n",
       "        text-align: right;\n",
       "    }\n",
       "</style>\n",
       "<table border=\"1\" class=\"dataframe\">\n",
       "  <thead>\n",
       "    <tr style=\"text-align: right;\">\n",
       "      <th></th>\n",
       "      <th>Name</th>\n",
       "      <th>Age</th>\n",
       "      <th>Age_group</th>\n",
       "      <th>Time</th>\n",
       "      <th>Gender</th>\n",
       "      <th>Distance</th>\n",
       "      <th>Year</th>\n",
       "    </tr>\n",
       "  </thead>\n",
       "  <tbody>\n",
       "    <tr>\n",
       "      <th>1</th>\n",
       "      <td>William Liu</td>\n",
       "      <td>19</td>\n",
       "      <td>10 - 19</td>\n",
       "      <td>16:15.33</td>\n",
       "      <td>Male</td>\n",
       "      <td>5K</td>\n",
       "      <td>2023</td>\n",
       "    </tr>\n",
       "  </tbody>\n",
       "</table>\n",
       "</div>"
      ],
      "text/plain": [
       "          Name  Age Age_group      Time Gender Distance  Year\n",
       "1  William Liu   19   10 - 19  16:15.33   Male       5K  2023"
      ]
     },
     "execution_count": 31,
     "metadata": {},
     "output_type": "execute_result"
    }
   ],
   "source": [
    "age_groups = ['< 10', '10 - 19', '20 - 29', '30 - 39',\n",
    "               '40 - 49', '50 - 59', '60 - 69', '70 - 79',\n",
    "                '80 - 89', '> 90']\n",
    "df['Age_group'] = pd.cut(df['Age'], bins=[0, 10, 20, 30, 40, 50, 60, 70, 80, 90, float('inf')], \n",
    "                         labels=age_groups, right=False)\n",
    "# change column order\n",
    "df.insert(2, 'Age_group', df.pop('Age_group'))\n",
    "df.head(1)"
   ]
  },
  {
   "cell_type": "markdown",
   "metadata": {},
   "source": [
    "Convert `Time` from string to `minute` in float formatting"
   ]
  },
  {
   "cell_type": "code",
   "execution_count": 32,
   "metadata": {},
   "outputs": [
    {
     "data": {
      "text/html": [
       "<div>\n",
       "<style scoped>\n",
       "    .dataframe tbody tr th:only-of-type {\n",
       "        vertical-align: middle;\n",
       "    }\n",
       "\n",
       "    .dataframe tbody tr th {\n",
       "        vertical-align: top;\n",
       "    }\n",
       "\n",
       "    .dataframe thead th {\n",
       "        text-align: right;\n",
       "    }\n",
       "</style>\n",
       "<table border=\"1\" class=\"dataframe\">\n",
       "  <thead>\n",
       "    <tr style=\"text-align: right;\">\n",
       "      <th></th>\n",
       "      <th>Name</th>\n",
       "      <th>Age</th>\n",
       "      <th>Age_group</th>\n",
       "      <th>Time (min)</th>\n",
       "      <th>Gender</th>\n",
       "      <th>Distance</th>\n",
       "      <th>Year</th>\n",
       "    </tr>\n",
       "  </thead>\n",
       "  <tbody>\n",
       "    <tr>\n",
       "      <th>1</th>\n",
       "      <td>William Liu</td>\n",
       "      <td>19</td>\n",
       "      <td>10 - 19</td>\n",
       "      <td>16.25</td>\n",
       "      <td>Male</td>\n",
       "      <td>5K</td>\n",
       "      <td>2023</td>\n",
       "    </tr>\n",
       "  </tbody>\n",
       "</table>\n",
       "</div>"
      ],
      "text/plain": [
       "          Name  Age Age_group  Time (min) Gender Distance  Year\n",
       "1  William Liu   19   10 - 19       16.25   Male       5K  2023"
      ]
     },
     "execution_count": 32,
     "metadata": {},
     "output_type": "execute_result"
    }
   ],
   "source": [
    "from datetime import datetime\n",
    "df = df[df['Time'] != \"Not started\"]\n",
    "df = df[df['Time'] != \"Started\"]\n",
    "df = df[df['Time'] != \"0.00\"]\n",
    "df = df[df['Time'] != \"DQ\"]\n",
    "def time_to_minutes(time_str):\n",
    "    if len(time_str) < 10:\n",
    "        time_obj = datetime.strptime(time_str, '%M:%S.%f')\n",
    "    else:\n",
    "        time_obj = datetime.strptime(time_str, '%H:%M:%S.%f')\n",
    "\n",
    "    total_minutes = time_obj.hour * 60 + time_obj.minute + time_obj.second / 60\n",
    "    return total_minutes\n",
    "\n",
    "df['Time'] = df['Time'].apply(time_to_minutes)\n",
    "df['Time'] = df['Time'].apply(lambda x: round(float(x), 3))\n",
    "df.rename(columns={'Time': 'Time (min)'}, inplace=True)\n",
    "\n",
    "df.head(1)"
   ]
  },
  {
   "cell_type": "markdown",
   "metadata": {},
   "source": [
    "add `Speed (Km/h)` column"
   ]
  },
  {
   "cell_type": "code",
   "execution_count": 33,
   "metadata": {},
   "outputs": [
    {
     "data": {
      "text/html": [
       "<div>\n",
       "<style scoped>\n",
       "    .dataframe tbody tr th:only-of-type {\n",
       "        vertical-align: middle;\n",
       "    }\n",
       "\n",
       "    .dataframe tbody tr th {\n",
       "        vertical-align: top;\n",
       "    }\n",
       "\n",
       "    .dataframe thead th {\n",
       "        text-align: right;\n",
       "    }\n",
       "</style>\n",
       "<table border=\"1\" class=\"dataframe\">\n",
       "  <thead>\n",
       "    <tr style=\"text-align: right;\">\n",
       "      <th></th>\n",
       "      <th>Name</th>\n",
       "      <th>Age</th>\n",
       "      <th>Age_group</th>\n",
       "      <th>Time (min)</th>\n",
       "      <th>Gender</th>\n",
       "      <th>Speed (Km/h)</th>\n",
       "      <th>Distance</th>\n",
       "      <th>Year</th>\n",
       "    </tr>\n",
       "  </thead>\n",
       "  <tbody>\n",
       "    <tr>\n",
       "      <th>1</th>\n",
       "      <td>William Liu</td>\n",
       "      <td>19</td>\n",
       "      <td>10 - 19</td>\n",
       "      <td>16.25</td>\n",
       "      <td>Male</td>\n",
       "      <td>18.462</td>\n",
       "      <td>5K</td>\n",
       "      <td>2023</td>\n",
       "    </tr>\n",
       "  </tbody>\n",
       "</table>\n",
       "</div>"
      ],
      "text/plain": [
       "          Name  Age Age_group  Time (min) Gender  Speed (Km/h) Distance  Year\n",
       "1  William Liu   19   10 - 19       16.25   Male        18.462       5K  2023"
      ]
     },
     "execution_count": 33,
     "metadata": {},
     "output_type": "execute_result"
    }
   ],
   "source": [
    "def time_to_speed(row):\n",
    "    distance = float(row['Distance'][:-1]) \n",
    "    time_minutes = row['Time (min)']\n",
    "    speed_kph = distance / (time_minutes / 60)\n",
    "    return speed_kph\n",
    "\n",
    "df['Speed (Km/h)'] = df.apply(time_to_speed, axis=1)\n",
    "df['Speed (Km/h)'] = df['Speed (Km/h)'].apply(lambda x: round(float(x), 3))\n",
    "\n",
    "# change column order\n",
    "df.insert(5, 'Speed (Km/h)', df.pop('Speed (Km/h)'))\n",
    "df.head(1)"
   ]
  },
  {
   "cell_type": "markdown",
   "metadata": {},
   "source": [
    "add `Pace (min/Km)` column"
   ]
  },
  {
   "cell_type": "code",
   "execution_count": 34,
   "metadata": {},
   "outputs": [
    {
     "data": {
      "text/html": [
       "<div>\n",
       "<style scoped>\n",
       "    .dataframe tbody tr th:only-of-type {\n",
       "        vertical-align: middle;\n",
       "    }\n",
       "\n",
       "    .dataframe tbody tr th {\n",
       "        vertical-align: top;\n",
       "    }\n",
       "\n",
       "    .dataframe thead th {\n",
       "        text-align: right;\n",
       "    }\n",
       "</style>\n",
       "<table border=\"1\" class=\"dataframe\">\n",
       "  <thead>\n",
       "    <tr style=\"text-align: right;\">\n",
       "      <th></th>\n",
       "      <th>Name</th>\n",
       "      <th>Age</th>\n",
       "      <th>Age_group</th>\n",
       "      <th>Time (min)</th>\n",
       "      <th>Gender</th>\n",
       "      <th>Pace (min/Km)</th>\n",
       "      <th>Speed (Km/h)</th>\n",
       "      <th>Distance</th>\n",
       "      <th>Year</th>\n",
       "    </tr>\n",
       "  </thead>\n",
       "  <tbody>\n",
       "    <tr>\n",
       "      <th>1</th>\n",
       "      <td>William Liu</td>\n",
       "      <td>19</td>\n",
       "      <td>10 - 19</td>\n",
       "      <td>16.25</td>\n",
       "      <td>Male</td>\n",
       "      <td>3.25</td>\n",
       "      <td>18.462</td>\n",
       "      <td>5K</td>\n",
       "      <td>2023</td>\n",
       "    </tr>\n",
       "  </tbody>\n",
       "</table>\n",
       "</div>"
      ],
      "text/plain": [
       "          Name  Age Age_group  Time (min) Gender  Pace (min/Km)  Speed (Km/h)  \\\n",
       "1  William Liu   19   10 - 19       16.25   Male           3.25        18.462   \n",
       "\n",
       "  Distance  Year  \n",
       "1       5K  2023  "
      ]
     },
     "execution_count": 34,
     "metadata": {},
     "output_type": "execute_result"
    }
   ],
   "source": [
    "def time_to_pace(row):\n",
    "    distance = float(row['Distance'][:-1]) \n",
    "    time_minutes = row['Time (min)']\n",
    "    pace_min_Km = time_minutes / distance\n",
    "    return pace_min_Km\n",
    "\n",
    "df['Pace (min/Km)'] = df.apply(time_to_pace, axis=1)\n",
    "df['Pace (min/Km)'] = df['Pace (min/Km)'].apply(lambda x: round(float(x), 3))\n",
    "\n",
    "# change column order\n",
    "df.insert(5, 'Pace (min/Km)', df.pop('Pace (min/Km)'))\n",
    "df.head(1)"
   ]
  },
  {
   "cell_type": "code",
   "execution_count": 35,
   "metadata": {},
   "outputs": [],
   "source": [
    "df.to_csv('data/processed.csv', index=False)"
   ]
  },
  {
   "cell_type": "markdown",
   "metadata": {},
   "source": [
    "# Data Analysis"
   ]
  },
  {
   "cell_type": "markdown",
   "metadata": {},
   "source": [
    "#### Inspect Data"
   ]
  },
  {
   "cell_type": "code",
   "execution_count": 36,
   "metadata": {},
   "outputs": [
    {
     "name": "stderr",
     "output_type": "stream",
     "text": [
      "/var/folders/32/3mmqs6sj1kb06qpdnfgb3cch0000gn/T/ipykernel_19565/3191473491.py:1: FutureWarning: The default of observed=False is deprecated and will be changed to True in a future version of pandas. Pass observed=False to retain current behavior or observed=True to adopt the future default and silence this warning.\n",
      "  grouped_df = df.groupby('Age_group').size().reset_index(name='count')\n"
     ]
    },
    {
     "data": {
      "text/plain": [
       "Age_group    40 - 49\n",
       "count            882\n",
       "Name: 4, dtype: object"
      ]
     },
     "execution_count": 36,
     "metadata": {},
     "output_type": "execute_result"
    }
   ],
   "source": [
    "grouped_df = df.groupby('Age_group').size().reset_index(name='count')\n",
    "max_count_row = grouped_df.loc[grouped_df['count'].idxmax()]\n",
    "max_count_row"
   ]
  }
 ],
 "metadata": {
  "kernelspec": {
   "display_name": "Python 3 (ipykernel)",
   "language": "python",
   "name": "python3"
  },
  "language_info": {
   "codemirror_mode": {
    "name": "ipython",
    "version": 3
   },
   "file_extension": ".py",
   "mimetype": "text/x-python",
   "name": "python",
   "nbconvert_exporter": "python",
   "pygments_lexer": "ipython3",
   "version": "3.9.6"
  }
 },
 "nbformat": 4,
 "nbformat_minor": 2
}
