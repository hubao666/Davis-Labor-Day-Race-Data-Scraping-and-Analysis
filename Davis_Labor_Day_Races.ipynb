{
 "cells": [
  {
   "cell_type": "markdown",
   "metadata": {},
   "source": [
    "## Data Scraping\n",
    "#### Import libraries"
   ]
  },
  {
   "cell_type": "code",
   "execution_count": 21,
   "metadata": {},
   "outputs": [],
   "source": [
    "import requests\n",
    "import pandas as pd\n",
    "from bs4 import BeautifulSoup\n",
    "import numpy as np\n",
    "import re\n"
   ]
  },
  {
   "cell_type": "markdown",
   "metadata": {},
   "source": [
    "#### Getter Function Implementations"
   ]
  },
  {
   "cell_type": "code",
   "execution_count": 79,
   "metadata": {},
   "outputs": [],
   "source": [
    "def get_names(response):\n",
    "    soup = BeautifulSoup(response.content, \"html.parser\")\n",
    "    values = soup.find_all('a', class_ = 'ltw-name', target = '_blank')\n",
    "    extracted_names = [name.get_text() for name in values]\n",
    "    names_series = pd.Series(extracted_names)\n",
    "    return names_series\n",
    "\n",
    "def get_ages(response, year):\n",
    "    soup = BeautifulSoup(response.content, \"html.parser\")\n",
    "    values = soup.find_all('td' ,class_ = 'd-none d-sm-table-cell')\n",
    "    extracted_values = [age.get_text() for age in values]\n",
    "    value_series = pd.Series(extracted_values)\n",
    "    numeric_age_data = pd.to_numeric(value_series, errors='coerce')\n",
    "    if (year == 2023):\n",
    "        correct_age_data = numeric_age_data.iloc[3::5]\n",
    "    elif(year == 2022):\n",
    "        correct_age_data = numeric_age_data.iloc[2::5]\n",
    "    elif(year == 2019):\n",
    "        correct_age_data = numeric_age_data.iloc[4::8]\n",
    "    elif (year == 2018):\n",
    "        correct_age_data = numeric_age_data.iloc[4::8]\n",
    "    elif (year == 2017 or year == 2016):\n",
    "        correct_age_data = numeric_age_data.iloc[2::5]\n",
    "    elif (year == 2015 or year == 2014):\n",
    "        correct_age_data = numeric_age_data.iloc[2::5]\n",
    "    elif (year == 2013):\n",
    "        correct_age_data = numeric_age_data.iloc[2::5]\n",
    "    \n",
    "    correct_age_data.reset_index(drop=True, inplace=True)\n",
    "    correct_age_data = correct_age_data.astype(int)\n",
    "    return correct_age_data\n",
    "\n",
    "def get_times(response, year):\n",
    "    soup = BeautifulSoup(response.content, \"html.parser\")\n",
    "    values = soup.find_all('td' ,class_ = 'd-none d-sm-table-cell ltw-time')\n",
    "    extracted_values = [time.get_text() for time in values]\n",
    "    value_series = pd.Series(extracted_values)\n",
    "    correct_time_data = value_series.iloc[1::2]\n",
    "    if (year == 2015 or year == 2014):\n",
    "        correct_time_data = value_series.iloc[0::2]\n",
    "    elif (year == 2013):\n",
    "        correct_time_data = value_series.iloc[0::2]\n",
    "\n",
    "    correct_time_data.reset_index(drop=True, inplace=True)\n",
    "    return correct_time_data\n",
    "\n",
    "def get_gender(response):\n",
    "    soup = BeautifulSoup(response.content, \"html.parser\")\n",
    "    values = soup.find_all('a', class_ = 'ltw-name')\n",
    "    extracted_values = [value.get_text() for value in values]\n",
    "    value_series = pd.Series(extracted_values)\n",
    "    correct_gender_data = value_series.iloc[2::3]\n",
    "    correct_gender_data.reset_index(drop=True, inplace=True)\n",
    "    return correct_gender_data\n"
   ]
  },
  {
   "cell_type": "markdown",
   "metadata": {},
   "source": [
    "#### Dataframe Generating Function"
   ]
  },
  {
   "cell_type": "code",
   "execution_count": 80,
   "metadata": {},
   "outputs": [],
   "source": [
    "def generate_dataframe(URL, distance, year):\n",
    "    response = requests.get(URL)\n",
    "    response.raise_for_status()\n",
    "    names = get_names(response)\n",
    "    ages = get_ages(response, year)\n",
    "    times = get_times(response, year)\n",
    "    genders = get_gender(response)\n",
    "    df = pd.DataFrame({\n",
    "                       'Name': names, \n",
    "                       'Age': ages, \n",
    "                       'Time': times, \n",
    "                       'Gender': genders,\n",
    "                       'Distance':distance, \n",
    "                       'Year':year\n",
    "                       })\n",
    "    return df\n",
    "    "
   ]
  },
  {
   "cell_type": "markdown",
   "metadata": {},
   "source": [
    "#### URLs"
   ]
  },
  {
   "cell_type": "code",
   "execution_count": 27,
   "metadata": {},
   "outputs": [],
   "source": [
    "url_5K_2023 = ['https://results.changeofpace.com/results.aspx?CId=16356&RId=6121&EId=1',\n",
    "               'https://results.changeofpace.com/results.aspx?CId=16356&RId=6121&EId=1&dt=0&PageNo=2',\n",
    "               'https://results.changeofpace.com/results.aspx?CId=16356&RId=6121&EId=1&dt=0&PageNo=3',\n",
    "               'https://results.changeofpace.com/results.aspx?CId=16356&RId=6121&EId=1&dt=0&PageNo=4',\n",
    "               'https://results.changeofpace.com/results.aspx?CId=16356&RId=6121&EId=1&dt=0&PageNo=5',\n",
    "               'https://results.changeofpace.com/results.aspx?CId=16356&RId=6121&EId=1&dt=0&PageNo=6',\n",
    "               'https://results.changeofpace.com/results.aspx?CId=16356&RId=6121&EId=1&dt=0&PageNo=7',\n",
    "               'https://results.changeofpace.com/results.aspx?CId=16356&RId=6121&EId=1&dt=0&PageNo=8',\n",
    "               'https://results.changeofpace.com/results.aspx?CId=16356&RId=6121&EId=1&dt=0&PageNo=9',]\n",
    "url_10K_2023 = ['https://results.changeofpace.com/results.aspx?CId=16356&RId=6121&EId=2',\n",
    "                'https://results.changeofpace.com/results.aspx?CId=16356&RId=6121&EId=2&dt=0&PageNo=2',\n",
    "                'https://results.changeofpace.com/results.aspx?CId=16356&RId=6121&EId=2&dt=0&PageNo=3',\n",
    "                'https://results.changeofpace.com/results.aspx?CId=16356&RId=6121&EId=2&dt=0&PageNo=4',\n",
    "                'https://results.changeofpace.com/results.aspx?CId=16356&RId=6121&EId=2&dt=0&PageNo=5',]\n",
    "url_5K_2022 = ['https://results.changeofpace.com/results.aspx?CId=16356&RId=6103',\n",
    "               'https://results.changeofpace.com/results.aspx?CId=16356&RId=6103&EId=1&dt=0&PageNo=2',\n",
    "               'https://results.changeofpace.com/results.aspx?CId=16356&RId=6103&EId=1&dt=0&PageNo=3',\n",
    "               'https://results.changeofpace.com/results.aspx?CId=16356&RId=6103&EId=1&dt=0&PageNo=4',\n",
    "               'https://results.changeofpace.com/results.aspx?CId=16356&RId=6103&EId=1&dt=0&PageNo=5',\n",
    "               'https://results.changeofpace.com/results.aspx?CId=16356&RId=6103&EId=1&dt=0&PageNo=6',\n",
    "               'https://results.changeofpace.com/results.aspx?CId=16356&RId=6103&EId=1&dt=0&PageNo=7',]\n",
    "url_10K_2022 = ['https://results.changeofpace.com/results.aspx?CId=16356&RId=6103&EId=2',\n",
    "                'https://results.changeofpace.com/results.aspx?CId=16356&RId=6103&EId=2&dt=0&PageNo=2',\n",
    "                'https://results.changeofpace.com/results.aspx?CId=16356&RId=6103&EId=2&dt=0&PageNo=3',\n",
    "                'https://results.changeofpace.com/results.aspx?CId=16356&RId=6103&EId=2&dt=0&PageNo=4',]\n",
    "url_5K_2019 = ['https://results.changeofpace.com/results.aspx?CId=16356&RId=6072',\n",
    "               'https://results.changeofpace.com/results.aspx?CId=16356&RId=6072&EId=1&dt=0&PageNo=2',\n",
    "               'https://results.changeofpace.com/results.aspx?CId=16356&RId=6072&EId=1&dt=0&PageNo=3',\n",
    "               'https://results.changeofpace.com/results.aspx?CId=16356&RId=6072&EId=1&dt=0&PageNo=4',\n",
    "               'https://results.changeofpace.com/results.aspx?CId=16356&RId=6072&EId=1&dt=0&PageNo=5',\n",
    "               'https://results.changeofpace.com/results.aspx?CId=16356&RId=6072&EId=1&dt=0&PageNo=6',]\n",
    "url_10K_2019 = ['https://results.changeofpace.com/results.aspx?CId=16356&RId=6072&EId=2',\n",
    "                'https://results.changeofpace.com/results.aspx?CId=16356&RId=6072&EId=2&dt=0&PageNo=2',\n",
    "                'https://results.changeofpace.com/results.aspx?CId=16356&RId=6072&EId=2&dt=0&PageNo=3',\n",
    "                'https://results.changeofpace.com/results.aspx?CId=16356&RId=6072&EId=2&dt=0&PageNo=4',]\n",
    "url_5K_2018 = ['https://results.changeofpace.com/results.aspx?CId=16356&RId=6047',\n",
    "               'https://results.changeofpace.com/results.aspx?CId=16356&RId=6047&EId=1&dt=0&PageNo=2',\n",
    "               'https://results.changeofpace.com/results.aspx?CId=16356&RId=6047&EId=1&dt=0&PageNo=3',\n",
    "               'https://results.changeofpace.com/results.aspx?CId=16356&RId=6047&EId=1&dt=0&PageNo=4',\n",
    "               'https://results.changeofpace.com/results.aspx?CId=16356&RId=6047&EId=1&dt=0&PageNo=5',\n",
    "               'https://results.changeofpace.com/results.aspx?CId=16356&RId=6047&EId=1&dt=0&PageNo=6',\n",
    "               'https://results.changeofpace.com/results.aspx?CId=16356&RId=6047&EId=1&dt=0&PageNo=7',]\n",
    "url_10K_2018 = ['https://results.changeofpace.com/results.aspx?CId=16356&RId=6047&EId=2',\n",
    "                'https://results.changeofpace.com/results.aspx?CId=16356&RId=6047&EId=2&dt=0&PageNo=2',\n",
    "                'https://results.changeofpace.com/results.aspx?CId=16356&RId=6047&EId=2&dt=0&PageNo=3',\n",
    "                'https://results.changeofpace.com/results.aspx?CId=16356&RId=6047&EId=2&dt=0&PageNo=4',\n",
    "                'https://results.changeofpace.com/results.aspx?CId=16356&RId=6047&EId=2&dt=0&PageNo=5',]\n",
    "url_5K_2017 = ['https://results.changeofpace.com/results.aspx?CId=16356&RId=6024',\n",
    "               'https://results.changeofpace.com/results.aspx?CId=16356&RId=6024&EId=1&dt=0&PageNo=2',\n",
    "               'https://results.changeofpace.com/results.aspx?CId=16356&RId=6024&EId=1&dt=0&PageNo=3',\n",
    "               'https://results.changeofpace.com/results.aspx?CId=16356&RId=6024&EId=1&dt=0&PageNo=4',]\n",
    "url_10K_2017 = ['https://results.changeofpace.com/results.aspx?CId=16356&RId=6024&EId=2',\n",
    "                'https://results.changeofpace.com/results.aspx?CId=16356&RId=6024&EId=2&dt=0&PageNo=2',\n",
    "                'https://results.changeofpace.com/results.aspx?CId=16356&RId=6024&EId=2&dt=0&PageNo=3',]\n",
    "url_5K_2016 = ['https://results.changeofpace.com/results.aspx?CId=16356&RId=188',\n",
    "               'https://results.changeofpace.com/results.aspx?CId=16356&RId=188&EId=1&dt=0&PageNo=2',\n",
    "               'https://results.changeofpace.com/results.aspx?CId=16356&RId=188&EId=1&dt=0&PageNo=3',\n",
    "               'https://results.changeofpace.com/results.aspx?CId=16356&RId=188&EId=1&dt=0&PageNo=4',\n",
    "               'https://results.changeofpace.com/results.aspx?CId=16356&RId=188&EId=1&dt=0&PageNo=5',\n",
    "               'https://results.changeofpace.com/results.aspx?CId=16356&RId=188&EId=1&dt=0&PageNo=6',]\n",
    "url_10K_2016 = ['https://results.changeofpace.com/results.aspx?CId=16356&RId=188&EId=2',\n",
    "                'https://results.changeofpace.com/results.aspx?CId=16356&RId=188&EId=2&dt=0&PageNo=2',\n",
    "                'https://results.changeofpace.com/results.aspx?CId=16356&RId=188&EId=2&dt=0&PageNo=3',\n",
    "                'https://results.changeofpace.com/results.aspx?CId=16356&RId=188&EId=2&dt=0&PageNo=4',]\n",
    "url_5K_2015 = ['https://results.changeofpace.com/results.aspx?CId=16356&RId=148',\n",
    "               'https://results.changeofpace.com/results.aspx?CId=16356&RId=148&EId=1&dt=0&PageNo=2',\n",
    "               'https://results.changeofpace.com/results.aspx?CId=16356&RId=148&EId=1&dt=0&PageNo=3',\n",
    "               'https://results.changeofpace.com/results.aspx?CId=16356&RId=148&EId=1&dt=0&PageNo=4',\n",
    "               'https://results.changeofpace.com/results.aspx?CId=16356&RId=148&EId=1&dt=0&PageNo=5',\n",
    "               'https://results.changeofpace.com/results.aspx?CId=16356&RId=148&EId=1&dt=0&PageNo=6',\n",
    "               'https://results.changeofpace.com/results.aspx?CId=16356&RId=148&EId=1&dt=0&PageNo=7',]\n",
    "url_10K_2015 = ['https://results.changeofpace.com/results.aspx?CId=16356&RId=148&EId=2',\n",
    "                'https://results.changeofpace.com/results.aspx?CId=16356&RId=148&EId=2&dt=0&PageNo=2',\n",
    "                'https://results.changeofpace.com/results.aspx?CId=16356&RId=148&EId=2&dt=0&PageNo=3',\n",
    "                'https://results.changeofpace.com/results.aspx?CId=16356&RId=148&EId=2&dt=0&PageNo=4',\n",
    "                'https://results.changeofpace.com/results.aspx?CId=16356&RId=148&EId=2&dt=0&PageNo=5',\n",
    "                'https://results.changeofpace.com/results.aspx?CId=16356&RId=148&EId=2&dt=0&PageNo=6',\n",
    "                'https://results.changeofpace.com/results.aspx?CId=16356&RId=148&EId=2&dt=0&PageNo=7',]\n",
    "url_5K_2014 = ['https://results.changeofpace.com/results.aspx?CId=16356&RId=92',\n",
    "               'https://results.changeofpace.com/results.aspx?CId=16356&RId=92&EId=1&dt=0&PageNo=2',\n",
    "               'https://results.changeofpace.com/results.aspx?CId=16356&RId=92&EId=1&dt=0&PageNo=3',\n",
    "               'https://results.changeofpace.com/results.aspx?CId=16356&RId=92&EId=1&dt=0&PageNo=4',\n",
    "               'https://results.changeofpace.com/results.aspx?CId=16356&RId=92&EId=1&dt=0&PageNo=5',\n",
    "               'https://results.changeofpace.com/results.aspx?CId=16356&RId=92&EId=1&dt=0&PageNo=6',\n",
    "               'https://results.changeofpace.com/results.aspx?CId=16356&RId=92&EId=1&dt=0&PageNo=7',\n",
    "               'https://results.changeofpace.com/results.aspx?CId=16356&RId=92&EId=1&dt=0&PageNo=8',]\n",
    "url_10K_2014 = ['https://results.changeofpace.com/results.aspx?CId=16356&RId=92&EId=2',\n",
    "                'https://results.changeofpace.com/results.aspx?CId=16356&RId=92&EId=2&dt=0&PageNo=2',\n",
    "                'https://results.changeofpace.com/results.aspx?CId=16356&RId=92&EId=2&dt=0&PageNo=3',\n",
    "                'https://results.changeofpace.com/results.aspx?CId=16356&RId=92&EId=2&dt=0&PageNo=4',\n",
    "                'https://results.changeofpace.com/results.aspx?CId=16356&RId=92&EId=2&dt=0&PageNo=5',\n",
    "                'https://results.changeofpace.com/results.aspx?CId=16356&RId=92&EId=2&dt=0&PageNo=6',\n",
    "                'https://results.changeofpace.com/results.aspx?CId=16356&RId=92&EId=2&dt=0&PageNo=7',]\n",
    "url_5K_2013 = ['https://results.changeofpace.com/results.aspx?CId=16356&RId=30',]\n",
    "url_10K_2013 = ['https://results.changeofpace.com/results.aspx?CId=16356&RId=30&EId=2',]"
   ]
  },
  {
   "cell_type": "markdown",
   "metadata": {},
   "source": [
    "#### Create Dataframe from all the URLs"
   ]
  },
  {
   "cell_type": "code",
   "execution_count": 81,
   "metadata": {},
   "outputs": [],
   "source": [
    "years = [2023, 2022, 2019, 2018, 2017, 2016, 2015, 2014, 2013]\n",
    "doc_types = ['5K', '10K']\n",
    "dfs = {f\"df_{year}_{doc_type}\": pd.DataFrame() for year in years for doc_type in doc_types}\n",
    "for year in years:\n",
    "    for doc_type in doc_types:\n",
    "        for url in globals()[f\"url_{doc_type}_{year}\"]:\n",
    "            df = generate_dataframe(url, doc_type, year)\n",
    "            dfs[f\"df_{year}_{doc_type}\"] = pd.concat([dfs[f\"df_{year}_{doc_type}\"], df], ignore_index=True)\n",
    "all_dfs = pd.concat(dfs.values(),axis=0)"
   ]
  },
  {
   "cell_type": "markdown",
   "metadata": {},
   "source": [
    "#### Store as a `csv` File"
   ]
  },
  {
   "cell_type": "code",
   "execution_count": 82,
   "metadata": {},
   "outputs": [],
   "source": [
    "all_dfs.to_csv('all_data.csv', index=False)"
   ]
  },
  {
   "cell_type": "markdown",
   "metadata": {},
   "source": [
    "## Data Processing"
   ]
  },
  {
   "cell_type": "code",
   "execution_count": 83,
   "metadata": {},
   "outputs": [],
   "source": [
    "df = pd.read_csv('all_data.csv')"
   ]
  },
  {
   "cell_type": "markdown",
   "metadata": {},
   "source": [
    "Reset index and add some new columns to the dataframe"
   ]
  },
  {
   "cell_type": "code",
   "execution_count": 64,
   "metadata": {},
   "outputs": [
    {
     "data": {
      "text/html": [
       "<div>\n",
       "<style scoped>\n",
       "    .dataframe tbody tr th:only-of-type {\n",
       "        vertical-align: middle;\n",
       "    }\n",
       "\n",
       "    .dataframe tbody tr th {\n",
       "        vertical-align: top;\n",
       "    }\n",
       "\n",
       "    .dataframe thead th {\n",
       "        text-align: right;\n",
       "    }\n",
       "</style>\n",
       "<table border=\"1\" class=\"dataframe\">\n",
       "  <thead>\n",
       "    <tr style=\"text-align: right;\">\n",
       "      <th></th>\n",
       "      <th>Name</th>\n",
       "      <th>Age</th>\n",
       "      <th>Age_group</th>\n",
       "      <th>Time</th>\n",
       "      <th>Gender</th>\n",
       "      <th>Distance</th>\n",
       "      <th>Year</th>\n",
       "    </tr>\n",
       "  </thead>\n",
       "  <tbody>\n",
       "    <tr>\n",
       "      <th>1</th>\n",
       "      <td>William Liu</td>\n",
       "      <td>19</td>\n",
       "      <td>10 - 19</td>\n",
       "      <td>16:15.33</td>\n",
       "      <td>Male</td>\n",
       "      <td>5K</td>\n",
       "      <td>2023</td>\n",
       "    </tr>\n",
       "    <tr>\n",
       "      <th>2</th>\n",
       "      <td>Chris Badolato</td>\n",
       "      <td>46</td>\n",
       "      <td>40 - 49</td>\n",
       "      <td>16:59.80</td>\n",
       "      <td>Male</td>\n",
       "      <td>5K</td>\n",
       "      <td>2023</td>\n",
       "    </tr>\n",
       "    <tr>\n",
       "      <th>3</th>\n",
       "      <td>Matthew Mayo</td>\n",
       "      <td>31</td>\n",
       "      <td>30 - 39</td>\n",
       "      <td>17:02.81</td>\n",
       "      <td>Male</td>\n",
       "      <td>5K</td>\n",
       "      <td>2023</td>\n",
       "    </tr>\n",
       "    <tr>\n",
       "      <th>4</th>\n",
       "      <td>Liam Lopez</td>\n",
       "      <td>18</td>\n",
       "      <td>10 - 19</td>\n",
       "      <td>17:30.58</td>\n",
       "      <td>Male</td>\n",
       "      <td>5K</td>\n",
       "      <td>2023</td>\n",
       "    </tr>\n",
       "  </tbody>\n",
       "</table>\n",
       "</div>"
      ],
      "text/plain": [
       "             Name  Age Age_group      Time Gender Distance  Year\n",
       "1     William Liu   19   10 - 19  16:15.33   Male       5K  2023\n",
       "2  Chris Badolato   46   40 - 49  16:59.80   Male       5K  2023\n",
       "3    Matthew Mayo   31   30 - 39  17:02.81   Male       5K  2023\n",
       "4      Liam Lopez   18   10 - 19  17:30.58   Male       5K  2023"
      ]
     },
     "execution_count": 64,
     "metadata": {},
     "output_type": "execute_result"
    }
   ],
   "source": [
    "# reset index\n",
    "df.index = np.arange(1, len(df) + 1)\n",
    "\n",
    "# add new column Age_group\n",
    "age_groups = ['< 10', '10 - 19', '20 - 29', '30 - 39',\n",
    "               '40 - 49', '50 - 59', '60 - 69', '70 - 79',\n",
    "                '80 - 89', '> 90']\n",
    "df['Age_group'] = pd.cut(df['Age'], bins=[0, 10, 20, 30, 40, 50, 60, 70, 80, 90, float('inf')], \n",
    "                         labels=age_groups, right=False)\n",
    "\n",
    "# add new column avg_speed(km/h)\n",
    "\n",
    "\n",
    "# change column order\n",
    "df.insert(2, 'Age_group', df.pop('Age_group'))\n",
    "df.head(4)"
   ]
  },
  {
   "cell_type": "markdown",
   "metadata": {},
   "source": [
    "#### Inspect Data"
   ]
  },
  {
   "cell_type": "code",
   "execution_count": 78,
   "metadata": {},
   "outputs": [
    {
     "name": "stderr",
     "output_type": "stream",
     "text": [
      "/var/folders/32/3mmqs6sj1kb06qpdnfgb3cch0000gn/T/ipykernel_15482/3191473491.py:1: FutureWarning: The default of observed=False is deprecated and will be changed to True in a future version of pandas. Pass observed=False to retain current behavior or observed=True to adopt the future default and silence this warning.\n",
      "  grouped_df = df.groupby('Age_group').size().reset_index(name='count')\n"
     ]
    },
    {
     "data": {
      "text/plain": [
       "Age_group    40 - 49\n",
       "count            949\n",
       "Name: 4, dtype: object"
      ]
     },
     "execution_count": 78,
     "metadata": {},
     "output_type": "execute_result"
    }
   ],
   "source": [
    "grouped_df = df.groupby('Age_group').size().reset_index(name='count')\n",
    "max_count_row = grouped_df.loc[grouped_df['count'].idxmax()]\n",
    "max_count_row"
   ]
  }
 ],
 "metadata": {
  "kernelspec": {
   "display_name": "Python 3 (ipykernel)",
   "language": "python",
   "name": "python3"
  },
  "language_info": {
   "codemirror_mode": {
    "name": "ipython",
    "version": 3
   },
   "file_extension": ".py",
   "mimetype": "text/x-python",
   "name": "python",
   "nbconvert_exporter": "python",
   "pygments_lexer": "ipython3",
   "version": "3.9.6"
  }
 },
 "nbformat": 4,
 "nbformat_minor": 2
}
