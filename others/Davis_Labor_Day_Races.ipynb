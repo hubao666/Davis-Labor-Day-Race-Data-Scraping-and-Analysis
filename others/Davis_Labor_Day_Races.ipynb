{
 "cells": [
  {
   "cell_type": "markdown",
   "metadata": {},
   "source": [
    "## Data Scraping\n",
    "#### Import libraries"
   ]
  },
  {
   "cell_type": "code",
   "execution_count": 27,
   "metadata": {},
   "outputs": [],
   "source": [
    "import requests\n",
    "import pandas as pd\n",
    "from bs4 import BeautifulSoup\n",
    "import numpy as np\n",
    "import re\n"
   ]
  },
  {
   "cell_type": "markdown",
   "metadata": {},
   "source": [
    "### Getter (helper) Functions Implementations\n",
    "This chunk of code consists of helper functions that return our desired value from the table in the website. For example, participant's name, age, and finish time, ect. There will be a construct function that generates dataframe by calling these helper functions."
   ]
  },
  {
   "cell_type": "markdown",
   "metadata": {},
   "source": [
    "By observed, all helper functions require `response` as argument, and some of them expect `year`\n",
    "#### Here is how each helper function work:\n",
    "1. Convert the response (HTML file) into a Beautiful Soup object.\n",
    "2. Find all the matching values by using `find_all()` function from the html file. Matched values are the texts in the html file that we are interested in\n",
    "     - we identify the tag and class of the desired texts using Chrome's developer tools, and then specify them in the function to obtain our result.\n",
    "3. For each value in the list of matched values\n",
    "     - extract the content by using beautiful soup object's `get_text()` function\n",
    "     - append the content to a list\n",
    "4. After we have a list of content, convert the list to pandas series object\n",
    "5. Filter out irrelevant content from the dataframe. Irrelevant information were captured because they share the same tag and class in the html file, and were captured in step `2` where we used `find_all()` function. \n",
    "   - we observe the pattern of occurrence for the desired contents, and for each type of information (age, finish time, etc.), the patterns are different. More details about this are provided below.\n",
    "   - The same information in different years might be rendered differently, so some helper functions take the `year` as a parameter to extract the desired content accordingly.\n",
    "6. Reset the index\n",
    "7. Return the series"
   ]
  },
  {
   "cell_type": "code",
   "execution_count": 28,
   "metadata": {},
   "outputs": [],
   "source": [
    "def get_names(response):\n",
    "    soup = BeautifulSoup(response.content, \"html.parser\")\n",
    "    values = soup.find_all('a', class_ = 'ltw-name', target = '_blank')\n",
    "    extracted_names = [name.get_text() for name in values]\n",
    "    names_series = pd.Series(extracted_names)\n",
    "    return names_series\n",
    "\n",
    "def get_ages(response, year):\n",
    "    soup = BeautifulSoup(response.content, \"html.parser\")\n",
    "    values = soup.find_all('td' ,class_ = 'd-none d-sm-table-cell')\n",
    "    extracted_values = [age.get_text() for age in values]\n",
    "    value_series = pd.Series(extracted_values)\n",
    "    numeric_age_data = pd.to_numeric(value_series, errors='coerce')\n",
    "    if (year == 2023):\n",
    "        correct_age_data = numeric_age_data.iloc[3::5]\n",
    "    elif(year == 2022):\n",
    "        correct_age_data = numeric_age_data.iloc[2::5]\n",
    "    elif(year == 2019):\n",
    "        correct_age_data = numeric_age_data.iloc[4::8]\n",
    "    elif (year == 2018):\n",
    "        correct_age_data = numeric_age_data.iloc[4::8]\n",
    "    elif (year == 2017 or year == 2016):\n",
    "        correct_age_data = numeric_age_data.iloc[2::5]\n",
    "    elif (year == 2015 or year == 2014):\n",
    "        correct_age_data = numeric_age_data.iloc[2::5]\n",
    "    elif (year == 2013):\n",
    "        correct_age_data = numeric_age_data.iloc[2::5]\n",
    "    \n",
    "    correct_age_data.reset_index(drop=True, inplace=True)\n",
    "    correct_age_data = correct_age_data.astype(int)\n",
    "    return correct_age_data\n",
    "\n",
    "def get_times(response, year):\n",
    "    soup = BeautifulSoup(response.content, \"html.parser\")\n",
    "    values = soup.find_all('td' ,class_ = 'd-none d-sm-table-cell ltw-time')\n",
    "    extracted_values = [time.get_text() for time in values]\n",
    "    value_series = pd.Series(extracted_values)\n",
    "    correct_time_data = value_series.iloc[1::2]\n",
    "    if (year == 2015 or year == 2014):\n",
    "        correct_time_data = value_series.iloc[0::2]\n",
    "    elif (year == 2013):\n",
    "        correct_time_data = value_series.iloc[0::2]\n",
    "\n",
    "    correct_time_data.reset_index(drop=True, inplace=True)\n",
    "    return correct_time_data\n",
    "\n",
    "def get_gender(response):\n",
    "    soup = BeautifulSoup(response.content, \"html.parser\")\n",
    "    values = soup.find_all('a', class_ = 'ltw-name')\n",
    "    extracted_values = [value.get_text() for value in values]\n",
    "    value_series = pd.Series(extracted_values)\n",
    "    correct_gender_data = value_series.iloc[2::3]\n",
    "    correct_gender_data.reset_index(drop=True, inplace=True)\n",
    "    return correct_gender_data\n"
   ]
  },
  {
   "cell_type": "markdown",
   "metadata": {},
   "source": [
    "### Decription of the Process of Writing a Helper Function\n",
    "We are going to use `get_ages(response, year)` function as an example to illustrate how we build a getter function."
   ]
  },
  {
   "cell_type": "markdown",
   "metadata": {},
   "source": [
    "First make a request from url in order to obtain the html file."
   ]
  },
  {
   "cell_type": "code",
   "execution_count": 29,
   "metadata": {},
   "outputs": [],
   "source": [
    "URL_10k_p2_2023 = 'https://results.changeofpace.com/results.aspx?CId=16356&RId=6121&EId=2&dt=0&PageNo=2'\n",
    "response = requests.get(URL_10k_p2_2023)\n",
    "response.raise_for_status()"
   ]
  },
  {
   "cell_type": "markdown",
   "metadata": {},
   "source": [
    "Convert html file to beautiful soup object "
   ]
  },
  {
   "cell_type": "code",
   "execution_count": 30,
   "metadata": {},
   "outputs": [],
   "source": [
    "soup = BeautifulSoup(response.content, \"html.parser\")\n",
    "ages = soup.find_all('td' ,class_ = 'd-none d-sm-table-cell')"
   ]
  },
  {
   "cell_type": "markdown",
   "metadata": {},
   "source": [
    "Extract contents from the html text"
   ]
  },
  {
   "cell_type": "code",
   "execution_count": 31,
   "metadata": {},
   "outputs": [],
   "source": [
    "extracted_values = [age.get_text() for age in ages]\n",
    "value_series = pd.Series(extracted_values)"
   ]
  },
  {
   "cell_type": "markdown",
   "metadata": {},
   "source": [
    "Now we met a difficulty: there are irrelevant information in the series. We want to extract the information that we are interested in. In this case, `age` is what we want. Let first take a look at the original series."
   ]
  },
  {
   "cell_type": "code",
   "execution_count": 32,
   "metadata": {},
   "outputs": [
    {
     "data": {
      "text/plain": [
       "0     696\n",
       "1       1\n",
       "2        \n",
       "3      71\n",
       "4      35\n",
       "5     854\n",
       "6       5\n",
       "7        \n",
       "8      39\n",
       "9      17\n",
       "10    880\n",
       "11      9\n",
       "12       \n",
       "13     26\n",
       "14     36\n",
       "dtype: object"
      ]
     },
     "execution_count": 32,
     "metadata": {},
     "output_type": "execute_result"
    }
   ],
   "source": [
    "value_series.head(15)"
   ]
  },
  {
   "cell_type": "markdown",
   "metadata": {},
   "source": [
    "As we can see there are some missing value in the series (values in index 2, 7, ext.), so we initially `drop` the missing values by using` dropna()` function to the series. This is actually a very bad idea since it cause me lots of troubles later. More details about this will be provided."
   ]
  },
  {
   "cell_type": "code",
   "execution_count": 33,
   "metadata": {},
   "outputs": [
    {
     "data": {
      "text/plain": [
       "0     696\n",
       "1       1\n",
       "2      71\n",
       "3      35\n",
       "4     854\n",
       "5       5\n",
       "6      39\n",
       "7      17\n",
       "8     880\n",
       "9       9\n",
       "10     26\n",
       "11     36\n",
       "12    741\n",
       "13      6\n",
       "14     58\n",
       "dtype: int64"
      ]
     },
     "execution_count": 33,
     "metadata": {},
     "output_type": "execute_result"
    }
   ],
   "source": [
    "numeric_age_data = pd.to_numeric(value_series, errors='coerce').dropna()\n",
    "numeric_age_data = numeric_age_data.astype(int)\n",
    "numeric_age_data.reset_index(drop=True, inplace=True)\n",
    "numeric_age_data.head(15)"
   ]
  },
  {
   "cell_type": "markdown",
   "metadata": {},
   "source": [
    "Now it looks \"better\" as there is no missing value. We then started obsering the pattern of occurence of `ages`.\n",
    "\n",
    "The actual first 4 `ages` in the website are `71, 39, 26, and 58`\n",
    "- [Click here to see the actual values](https://results.changeofpace.com/results.aspx?CId=16356&RId=6121&EId=2&dt=0&PageNo=2)"
   ]
  },
  {
   "cell_type": "markdown",
   "metadata": {},
   "source": [
    "By observing the series, we find that the actual age start at index 2 and are separated by 3 irrevelant values to the next runner's actual age (which is 4 steps), so we can extract the desired values by using this particular pattern"
   ]
  },
  {
   "cell_type": "code",
   "execution_count": 34,
   "metadata": {},
   "outputs": [
    {
     "data": {
      "text/plain": [
       "0    71\n",
       "1    39\n",
       "2    26\n",
       "3    58\n",
       "dtype: int64"
      ]
     },
     "execution_count": 34,
     "metadata": {},
     "output_type": "execute_result"
    }
   ],
   "source": [
    "correct_age_data = numeric_age_data.iloc[2::4]\n",
    "correct_age_data.reset_index(drop=True, inplace=True)\n",
    "correct_age_data.head(4)"
   ]
  },
  {
   "cell_type": "markdown",
   "metadata": {},
   "source": [
    "This looks pretty good! As these numbers are in the exact same order as they are in the website. Let's proceed with combining this age series with participants' name to have a better view. Assume we already have the `get_names(response)` function so we can use it for illustration purpose."
   ]
  },
  {
   "cell_type": "code",
   "execution_count": 48,
   "metadata": {},
   "outputs": [
    {
     "data": {
      "text/html": [
       "<div>\n",
       "<style scoped>\n",
       "    .dataframe tbody tr th:only-of-type {\n",
       "        vertical-align: middle;\n",
       "    }\n",
       "\n",
       "    .dataframe tbody tr th {\n",
       "        vertical-align: top;\n",
       "    }\n",
       "\n",
       "    .dataframe thead th {\n",
       "        text-align: right;\n",
       "    }\n",
       "</style>\n",
       "<table border=\"1\" class=\"dataframe\">\n",
       "  <thead>\n",
       "    <tr style=\"text-align: right;\">\n",
       "      <th></th>\n",
       "      <th>Name</th>\n",
       "      <th>Age</th>\n",
       "    </tr>\n",
       "  </thead>\n",
       "  <tbody>\n",
       "    <tr>\n",
       "      <th>0</th>\n",
       "      <td>Mike Cordano</td>\n",
       "      <td>71</td>\n",
       "    </tr>\n",
       "    <tr>\n",
       "      <th>1</th>\n",
       "      <td>Hortensia Cisneros Benftez</td>\n",
       "      <td>39</td>\n",
       "    </tr>\n",
       "    <tr>\n",
       "      <th>2</th>\n",
       "      <td>Kevin Barrett</td>\n",
       "      <td>26</td>\n",
       "    </tr>\n",
       "    <tr>\n",
       "      <th>3</th>\n",
       "      <td>David Wilson</td>\n",
       "      <td>58</td>\n",
       "    </tr>\n",
       "  </tbody>\n",
       "</table>\n",
       "</div>"
      ],
      "text/plain": [
       "                         Name  Age\n",
       "0                Mike Cordano   71\n",
       "1  Hortensia Cisneros Benftez   39\n",
       "2               Kevin Barrett   26\n",
       "3                David Wilson   58"
      ]
     },
     "execution_count": 48,
     "metadata": {},
     "output_type": "execute_result"
    }
   ],
   "source": [
    "name_data = get_names(response)\n",
    "df_name_and_age = pd.DataFrame({'Name': name_data, 'Age': correct_age_data})\n",
    "df_name_and_age.head(4)"
   ]
  },
  {
   "cell_type": "markdown",
   "metadata": {},
   "source": [
    "Name and age also match. Let's not only check the first several lines, but also inspect lines in the middle to ensure the correctness continues:"
   ]
  },
  {
   "cell_type": "code",
   "execution_count": 50,
   "metadata": {},
   "outputs": [
    {
     "data": {
      "text/html": [
       "<div>\n",
       "<style scoped>\n",
       "    .dataframe tbody tr th:only-of-type {\n",
       "        vertical-align: middle;\n",
       "    }\n",
       "\n",
       "    .dataframe tbody tr th {\n",
       "        vertical-align: top;\n",
       "    }\n",
       "\n",
       "    .dataframe thead th {\n",
       "        text-align: right;\n",
       "    }\n",
       "</style>\n",
       "<table border=\"1\" class=\"dataframe\">\n",
       "  <thead>\n",
       "    <tr style=\"text-align: right;\">\n",
       "      <th></th>\n",
       "      <th>Name</th>\n",
       "      <th>Age</th>\n",
       "    </tr>\n",
       "  </thead>\n",
       "  <tbody>\n",
       "    <tr>\n",
       "      <th>27</th>\n",
       "      <td>Bao Hu</td>\n",
       "      <td>20</td>\n",
       "    </tr>\n",
       "  </tbody>\n",
       "</table>\n",
       "</div>"
      ],
      "text/plain": [
       "      Name  Age\n",
       "27  Bao Hu   20"
      ]
     },
     "execution_count": 50,
     "metadata": {},
     "output_type": "execute_result"
    }
   ],
   "source": [
    "df_name_and_age.iloc[27:28]"
   ]
  },
  {
   "cell_type": "markdown",
   "metadata": {},
   "source": [
    "Name and age also match, because this is me. I participated in this event in 2023, so my information is included"
   ]
  },
  {
   "cell_type": "markdown",
   "metadata": {},
   "source": [
    "However, as we mentioned above, dropping missing value was actually a bad idea as we soon met a new problem. The link we used above are from page 2, 10K, but if we used the link of the third page in the same year and also in 10K catagory, we obtained wrong age values."
   ]
  },
  {
   "cell_type": "markdown",
   "metadata": {},
   "source": [
    "Below we use the same process as above, but change the link to the [another page](https://results.changeofpace.com/results.aspx?CId=16356&RId=6121&EId=2&dt=0&PageNo=3) (p3), in the same year"
   ]
  },
  {
   "cell_type": "code",
   "execution_count": 52,
   "metadata": {},
   "outputs": [],
   "source": [
    "URL_10k_p3_2023 = 'https://results.changeofpace.com/results.aspx?CId=16356&RId=6121&EId=2&dt=0&PageNo=3'\n",
    "response = requests.get(URL_10k_p3_2023)\n",
    "response.raise_for_status()\n",
    "\n",
    "soup = BeautifulSoup(response.content, \"html.parser\")\n",
    "ages = soup.find_all('td' ,class_ = 'd-none d-sm-table-cell')\n",
    "\n",
    "extracted_values = [age.get_text() for age in ages]\n",
    "value_series = pd.Series(extracted_values)\n",
    "\n",
    "numeric_age_data = pd.to_numeric(value_series, errors='coerce').dropna()\n",
    "numeric_age_data = numeric_age_data.astype(int)\n",
    "numeric_age_data.reset_index(drop=True, inplace=True)\n",
    "\n",
    "correct_age_data = numeric_age_data.iloc[2::4]\n",
    "correct_age_data.reset_index(drop=True, inplace=True)\n",
    "\n",
    "name_data = get_names(response)\n",
    "df_name_and_age = pd.DataFrame({'Name': name_data, 'Age': correct_age_data})"
   ]
  },
  {
   "cell_type": "markdown",
   "metadata": {},
   "source": [
    "we first check the first 4 lines of the table, and it looks good"
   ]
  },
  {
   "cell_type": "code",
   "execution_count": 58,
   "metadata": {},
   "outputs": [
    {
     "data": {
      "text/html": [
       "<div>\n",
       "<style scoped>\n",
       "    .dataframe tbody tr th:only-of-type {\n",
       "        vertical-align: middle;\n",
       "    }\n",
       "\n",
       "    .dataframe tbody tr th {\n",
       "        vertical-align: top;\n",
       "    }\n",
       "\n",
       "    .dataframe thead th {\n",
       "        text-align: right;\n",
       "    }\n",
       "</style>\n",
       "<table border=\"1\" class=\"dataframe\">\n",
       "  <thead>\n",
       "    <tr style=\"text-align: right;\">\n",
       "      <th></th>\n",
       "      <th>Name</th>\n",
       "      <th>Age</th>\n",
       "    </tr>\n",
       "  </thead>\n",
       "  <tbody>\n",
       "    <tr>\n",
       "      <th>0</th>\n",
       "      <td>Andreanna Shuman</td>\n",
       "      <td>67</td>\n",
       "    </tr>\n",
       "    <tr>\n",
       "      <th>1</th>\n",
       "      <td>Soila Rios</td>\n",
       "      <td>67</td>\n",
       "    </tr>\n",
       "    <tr>\n",
       "      <th>2</th>\n",
       "      <td>Andrea Villanueva</td>\n",
       "      <td>60</td>\n",
       "    </tr>\n",
       "    <tr>\n",
       "      <th>3</th>\n",
       "      <td>Madison Buddingh</td>\n",
       "      <td>22</td>\n",
       "    </tr>\n",
       "  </tbody>\n",
       "</table>\n",
       "</div>"
      ],
      "text/plain": [
       "                Name  Age\n",
       "0   Andreanna Shuman   67\n",
       "1         Soila Rios   67\n",
       "2  Andrea Villanueva   60\n",
       "3   Madison Buddingh   22"
      ]
     },
     "execution_count": 58,
     "metadata": {},
     "output_type": "execute_result"
    }
   ],
   "source": [
    "df_name_and_age.head(4)"
   ]
  },
  {
   "cell_type": "markdown",
   "metadata": {},
   "source": [
    "we then check 4 participants' ages in the middle of the table:"
   ]
  },
  {
   "cell_type": "code",
   "execution_count": 67,
   "metadata": {},
   "outputs": [
    {
     "data": {
      "text/html": [
       "<div>\n",
       "<style scoped>\n",
       "    .dataframe tbody tr th:only-of-type {\n",
       "        vertical-align: middle;\n",
       "    }\n",
       "\n",
       "    .dataframe tbody tr th {\n",
       "        vertical-align: top;\n",
       "    }\n",
       "\n",
       "    .dataframe thead th {\n",
       "        text-align: right;\n",
       "    }\n",
       "</style>\n",
       "<table border=\"1\" class=\"dataframe\">\n",
       "  <thead>\n",
       "    <tr style=\"text-align: right;\">\n",
       "      <th></th>\n",
       "      <th>Name</th>\n",
       "      <th>Age</th>\n",
       "    </tr>\n",
       "  </thead>\n",
       "  <tbody>\n",
       "    <tr>\n",
       "      <th>27</th>\n",
       "      <td>Lisa Geibel-Finn</td>\n",
       "      <td>744</td>\n",
       "    </tr>\n",
       "    <tr>\n",
       "      <th>28</th>\n",
       "      <td>Christopher Kim</td>\n",
       "      <td>799</td>\n",
       "    </tr>\n",
       "    <tr>\n",
       "      <th>29</th>\n",
       "      <td>Carey Seal</td>\n",
       "      <td>758</td>\n",
       "    </tr>\n",
       "    <tr>\n",
       "      <th>30</th>\n",
       "      <td>Lenna Ontai</td>\n",
       "      <td>655</td>\n",
       "    </tr>\n",
       "  </tbody>\n",
       "</table>\n",
       "</div>"
      ],
      "text/plain": [
       "                Name  Age\n",
       "27  Lisa Geibel-Finn  744\n",
       "28   Christopher Kim  799\n",
       "29        Carey Seal  758\n",
       "30       Lenna Ontai  655"
      ]
     },
     "execution_count": 67,
     "metadata": {},
     "output_type": "execute_result"
    }
   ],
   "source": [
    "df_name_and_age.iloc[27:31]"
   ]
  },
  {
   "cell_type": "markdown",
   "metadata": {},
   "source": [
    "Apparently, we didn't manage to capture the correct age values. There must be something wrong in the process of extracting desired age values. The thing that causes confusion is that the method we used in page 2 work with no trouble, so we then started observing the difference of the tables between 2 pages.\n",
    "\n",
    "After observation, we found that there is a column named `Sp Div Pos`(stands for \"Special Division Position\") that share the same tag and class as the texts containing our desired age values. On the table from [page 2](https://results.changeofpace.com/results.aspx?CId=16356&RId=6121&EId=2&dt=0&PageNo=2), there is no value under this column, and in contrast, some of rows contain value under this column on the table from [page 3](https://results.changeofpace.com/results.aspx?CId=16356&RId=6121&EId=2&dt=0&PageNo=3). The occurence of the first value of `Sp Div Pos` ruins the pattern that \"each `age value` is separated by `3` irrevelant values to the next `age value`\", as the first `Sp Div Pos` value make the distance from 3 to 4. As a result, all the following data were captured incorrectly.\n",
    "\n",
    "So we then considered to eliminate the html text with the occurence of `Sp Div Pos` value, but since they share the exact same tag and class as the `age value` as mentioned serveral times above, we were not able to find a way to do that."
   ]
  },
  {
   "cell_type": "code",
   "execution_count": 69,
   "metadata": {},
   "outputs": [
    {
     "data": {
      "text/plain": [
       "[<td class=\"d-none d-sm-table-cell\">853</td>,\n",
       " <td class=\"d-none d-sm-table-cell\">1</td>,\n",
       " <td class=\"d-none d-sm-table-cell\"></td>,\n",
       " <td class=\"d-none d-sm-table-cell\">67</td>,\n",
       " <td class=\"d-none d-sm-table-cell\">38</td>]"
      ]
     },
     "execution_count": 69,
     "metadata": {},
     "output_type": "execute_result"
    }
   ],
   "source": [
    "ages[:5]"
   ]
  },
  {
   "cell_type": "markdown",
   "metadata": {},
   "source": [
    "We spent hours to find a way to eliminate the html text with the occurence of `Sp Div Pos` value, but none of the apporaches worked. So we then started over, and observed the captured html texts from `find_all()` function (the output from the line of code above is an example, where 67 is the first age value). We noticed that the third line contains no value, which is the `NA` that we dropped after converting the html texts to pandas series.\n",
    "\n",
    "We then realized that dropping the `NA` value is a wrong decision since they are the values under the `Sp Div Pos` column. If the participant is not in any special division (Stroller Division, Dog Division, ect), the value in the participant's row under column `Sp Div Pos` will be a blank, which is the third line in the output above, and which is also the `NA` we dropped previously.\n",
    "\n",
    "So once the first `Sp Div Pos` value occured, it means that one more irrevelant value appears between two age values since it's not a `NA`, and we didn't drop it. \n",
    "\n",
    "The simplest way to fix it is that not to drop `NA`, instead, change the pattern that we extract the age values."
   ]
  },
  {
   "cell_type": "code",
   "execution_count": 74,
   "metadata": {},
   "outputs": [
    {
     "data": {
      "text/html": [
       "<div>\n",
       "<style scoped>\n",
       "    .dataframe tbody tr th:only-of-type {\n",
       "        vertical-align: middle;\n",
       "    }\n",
       "\n",
       "    .dataframe tbody tr th {\n",
       "        vertical-align: top;\n",
       "    }\n",
       "\n",
       "    .dataframe thead th {\n",
       "        text-align: right;\n",
       "    }\n",
       "</style>\n",
       "<table border=\"1\" class=\"dataframe\">\n",
       "  <thead>\n",
       "    <tr style=\"text-align: right;\">\n",
       "      <th></th>\n",
       "      <th>Name</th>\n",
       "      <th>Age</th>\n",
       "    </tr>\n",
       "  </thead>\n",
       "  <tbody>\n",
       "    <tr>\n",
       "      <th>27</th>\n",
       "      <td>Lisa Geibel-Finn</td>\n",
       "      <td>58</td>\n",
       "    </tr>\n",
       "    <tr>\n",
       "      <th>28</th>\n",
       "      <td>Christopher Kim</td>\n",
       "      <td>53</td>\n",
       "    </tr>\n",
       "    <tr>\n",
       "      <th>29</th>\n",
       "      <td>Carey Seal</td>\n",
       "      <td>42</td>\n",
       "    </tr>\n",
       "    <tr>\n",
       "      <th>30</th>\n",
       "      <td>Lenna Ontai</td>\n",
       "      <td>50</td>\n",
       "    </tr>\n",
       "  </tbody>\n",
       "</table>\n",
       "</div>"
      ],
      "text/plain": [
       "                Name Age\n",
       "27  Lisa Geibel-Finn  58\n",
       "28   Christopher Kim  53\n",
       "29        Carey Seal  42\n",
       "30       Lenna Ontai  50"
      ]
     },
     "execution_count": 74,
     "metadata": {},
     "output_type": "execute_result"
    }
   ],
   "source": [
    "## extract age values from page 3\n",
    "URL_10k_p3_2023 = 'https://results.changeofpace.com/results.aspx?CId=16356&RId=6121&EId=2&dt=0&PageNo=3'\n",
    "response = requests.get(URL_10k_p3_2023)\n",
    "response.raise_for_status()\n",
    "\n",
    "soup = BeautifulSoup(response.content, \"html.parser\")\n",
    "ages = soup.find_all('td' ,class_ = 'd-none d-sm-table-cell')\n",
    "\n",
    "extracted_values = [age.get_text() for age in ages]\n",
    "value_series = pd.Series(extracted_values)\n",
    "\n",
    "## simply comment out this line\n",
    "# numeric_age_data = pd.to_numeric(value_series, errors='coerce').dropna()\n",
    "# numeric_age_data = numeric_age_data.astype(int)\n",
    "# numeric_age_data.reset_index(drop=True, inplace=True)\n",
    "\n",
    "## and change the pattern we extract values\n",
    "correct_age_data = value_series.iloc[3::5]\n",
    "correct_age_data.reset_index(drop=True, inplace=True)\n",
    "\n",
    "name_data = get_names(response)\n",
    "df_name_and_age = pd.DataFrame({'Name': name_data, 'Age': correct_age_data})\n",
    "df_name_and_age = pd.DataFrame({'Name': name_data, 'Age': correct_age_data})\n",
    "df_name_and_age.iloc[27:31]"
   ]
  },
  {
   "cell_type": "markdown",
   "metadata": {},
   "source": [
    "Now we have sovled the problem! The names and ages match."
   ]
  },
  {
   "cell_type": "markdown",
   "metadata": {},
   "source": [
    "After we have all the necessary helper functions, we can start constructing the dataframe generating function"
   ]
  },
  {
   "cell_type": "markdown",
   "metadata": {},
   "source": [
    "### Dataframe Generating Function"
   ]
  },
  {
   "cell_type": "markdown",
   "metadata": {},
   "source": [
    "Fairly straightfoward, create different series by using corresponding helper functions, and then combine to a dataframe"
   ]
  },
  {
   "cell_type": "code",
   "execution_count": 75,
   "metadata": {},
   "outputs": [],
   "source": [
    "def generate_dataframe(URL, distance, year):\n",
    "    ''' \n",
    "    generates a dataframe containing participant's name, age, finish time, ect.\n",
    "    @ URL: link to the website containing the table with information that we want\n",
    "    @ distance: distance category, 10K and 5K\n",
    "    @ year: the year when the event was hold\n",
    "    @ return: a dataframe that contains the information we want\n",
    "    '''\n",
    "    response = requests.get(URL)\n",
    "    response.raise_for_status()\n",
    "    names = get_names(response)\n",
    "    ages = get_ages(response, year)\n",
    "    times = get_times(response, year)\n",
    "    genders = get_gender(response)\n",
    "    df = pd.DataFrame({\n",
    "                       'Name': names, \n",
    "                       'Age': ages, \n",
    "                       'Time': times, \n",
    "                       'Gender': genders,\n",
    "                       'Distance':distance, \n",
    "                       'Year':year\n",
    "                       })\n",
    "    return df\n",
    "    "
   ]
  },
  {
   "cell_type": "markdown",
   "metadata": {},
   "source": [
    "Now we need to apply `generate_dataframe(URL, distance, year)` function to all the urls, and concatenate every dataframe from each url to a big dataframe. "
   ]
  },
  {
   "cell_type": "markdown",
   "metadata": {},
   "source": [
    "The code and reports above about `Data Scraping` were written by Bao Hu "
   ]
  },
  {
   "cell_type": "markdown",
   "metadata": {},
   "source": [
    "#### URLs"
   ]
  },
  {
   "cell_type": "code",
   "execution_count": 5,
   "metadata": {},
   "outputs": [],
   "source": [
    "url_5K_2023 = ['https://results.changeofpace.com/results.aspx?CId=16356&RId=6121&EId=1',\n",
    "               'https://results.changeofpace.com/results.aspx?CId=16356&RId=6121&EId=1&dt=0&PageNo=2',\n",
    "               'https://results.changeofpace.com/results.aspx?CId=16356&RId=6121&EId=1&dt=0&PageNo=3',\n",
    "               'https://results.changeofpace.com/results.aspx?CId=16356&RId=6121&EId=1&dt=0&PageNo=4',\n",
    "               'https://results.changeofpace.com/results.aspx?CId=16356&RId=6121&EId=1&dt=0&PageNo=5',\n",
    "               'https://results.changeofpace.com/results.aspx?CId=16356&RId=6121&EId=1&dt=0&PageNo=6',\n",
    "               'https://results.changeofpace.com/results.aspx?CId=16356&RId=6121&EId=1&dt=0&PageNo=7',\n",
    "               'https://results.changeofpace.com/results.aspx?CId=16356&RId=6121&EId=1&dt=0&PageNo=8',\n",
    "               'https://results.changeofpace.com/results.aspx?CId=16356&RId=6121&EId=1&dt=0&PageNo=9',]\n",
    "url_10K_2023 = ['https://results.changeofpace.com/results.aspx?CId=16356&RId=6121&EId=2',\n",
    "                'https://results.changeofpace.com/results.aspx?CId=16356&RId=6121&EId=2&dt=0&PageNo=2',\n",
    "                'https://results.changeofpace.com/results.aspx?CId=16356&RId=6121&EId=2&dt=0&PageNo=3',\n",
    "                'https://results.changeofpace.com/results.aspx?CId=16356&RId=6121&EId=2&dt=0&PageNo=4',\n",
    "                'https://results.changeofpace.com/results.aspx?CId=16356&RId=6121&EId=2&dt=0&PageNo=5',]\n",
    "url_5K_2022 = ['https://results.changeofpace.com/results.aspx?CId=16356&RId=6103',\n",
    "               'https://results.changeofpace.com/results.aspx?CId=16356&RId=6103&EId=1&dt=0&PageNo=2',\n",
    "               'https://results.changeofpace.com/results.aspx?CId=16356&RId=6103&EId=1&dt=0&PageNo=3',\n",
    "               'https://results.changeofpace.com/results.aspx?CId=16356&RId=6103&EId=1&dt=0&PageNo=4',\n",
    "               'https://results.changeofpace.com/results.aspx?CId=16356&RId=6103&EId=1&dt=0&PageNo=5',\n",
    "               'https://results.changeofpace.com/results.aspx?CId=16356&RId=6103&EId=1&dt=0&PageNo=6',\n",
    "               'https://results.changeofpace.com/results.aspx?CId=16356&RId=6103&EId=1&dt=0&PageNo=7',]\n",
    "url_10K_2022 = ['https://results.changeofpace.com/results.aspx?CId=16356&RId=6103&EId=2',\n",
    "                'https://results.changeofpace.com/results.aspx?CId=16356&RId=6103&EId=2&dt=0&PageNo=2',\n",
    "                'https://results.changeofpace.com/results.aspx?CId=16356&RId=6103&EId=2&dt=0&PageNo=3',\n",
    "                'https://results.changeofpace.com/results.aspx?CId=16356&RId=6103&EId=2&dt=0&PageNo=4',]\n",
    "url_5K_2019 = ['https://results.changeofpace.com/results.aspx?CId=16356&RId=6072',\n",
    "               'https://results.changeofpace.com/results.aspx?CId=16356&RId=6072&EId=1&dt=0&PageNo=2',\n",
    "               'https://results.changeofpace.com/results.aspx?CId=16356&RId=6072&EId=1&dt=0&PageNo=3',\n",
    "               'https://results.changeofpace.com/results.aspx?CId=16356&RId=6072&EId=1&dt=0&PageNo=4',\n",
    "               'https://results.changeofpace.com/results.aspx?CId=16356&RId=6072&EId=1&dt=0&PageNo=5',\n",
    "               'https://results.changeofpace.com/results.aspx?CId=16356&RId=6072&EId=1&dt=0&PageNo=6',]\n",
    "url_10K_2019 = ['https://results.changeofpace.com/results.aspx?CId=16356&RId=6072&EId=2',\n",
    "                'https://results.changeofpace.com/results.aspx?CId=16356&RId=6072&EId=2&dt=0&PageNo=2',\n",
    "                'https://results.changeofpace.com/results.aspx?CId=16356&RId=6072&EId=2&dt=0&PageNo=3',\n",
    "                'https://results.changeofpace.com/results.aspx?CId=16356&RId=6072&EId=2&dt=0&PageNo=4',]\n",
    "url_5K_2018 = ['https://results.changeofpace.com/results.aspx?CId=16356&RId=6047',\n",
    "               'https://results.changeofpace.com/results.aspx?CId=16356&RId=6047&EId=1&dt=0&PageNo=2',\n",
    "               'https://results.changeofpace.com/results.aspx?CId=16356&RId=6047&EId=1&dt=0&PageNo=3',\n",
    "               'https://results.changeofpace.com/results.aspx?CId=16356&RId=6047&EId=1&dt=0&PageNo=4',\n",
    "               'https://results.changeofpace.com/results.aspx?CId=16356&RId=6047&EId=1&dt=0&PageNo=5',\n",
    "               'https://results.changeofpace.com/results.aspx?CId=16356&RId=6047&EId=1&dt=0&PageNo=6',\n",
    "               'https://results.changeofpace.com/results.aspx?CId=16356&RId=6047&EId=1&dt=0&PageNo=7',]\n",
    "url_10K_2018 = ['https://results.changeofpace.com/results.aspx?CId=16356&RId=6047&EId=2',\n",
    "                'https://results.changeofpace.com/results.aspx?CId=16356&RId=6047&EId=2&dt=0&PageNo=2',\n",
    "                'https://results.changeofpace.com/results.aspx?CId=16356&RId=6047&EId=2&dt=0&PageNo=3',\n",
    "                'https://results.changeofpace.com/results.aspx?CId=16356&RId=6047&EId=2&dt=0&PageNo=4',\n",
    "                'https://results.changeofpace.com/results.aspx?CId=16356&RId=6047&EId=2&dt=0&PageNo=5',]\n",
    "url_5K_2017 = ['https://results.changeofpace.com/results.aspx?CId=16356&RId=6024',\n",
    "               'https://results.changeofpace.com/results.aspx?CId=16356&RId=6024&EId=1&dt=0&PageNo=2',\n",
    "               'https://results.changeofpace.com/results.aspx?CId=16356&RId=6024&EId=1&dt=0&PageNo=3',\n",
    "               'https://results.changeofpace.com/results.aspx?CId=16356&RId=6024&EId=1&dt=0&PageNo=4',]\n",
    "url_10K_2017 = ['https://results.changeofpace.com/results.aspx?CId=16356&RId=6024&EId=2',\n",
    "                'https://results.changeofpace.com/results.aspx?CId=16356&RId=6024&EId=2&dt=0&PageNo=2',\n",
    "                'https://results.changeofpace.com/results.aspx?CId=16356&RId=6024&EId=2&dt=0&PageNo=3',]\n",
    "url_5K_2016 = ['https://results.changeofpace.com/results.aspx?CId=16356&RId=188',\n",
    "               'https://results.changeofpace.com/results.aspx?CId=16356&RId=188&EId=1&dt=0&PageNo=2',\n",
    "               'https://results.changeofpace.com/results.aspx?CId=16356&RId=188&EId=1&dt=0&PageNo=3',\n",
    "               'https://results.changeofpace.com/results.aspx?CId=16356&RId=188&EId=1&dt=0&PageNo=4',\n",
    "               'https://results.changeofpace.com/results.aspx?CId=16356&RId=188&EId=1&dt=0&PageNo=5',\n",
    "               'https://results.changeofpace.com/results.aspx?CId=16356&RId=188&EId=1&dt=0&PageNo=6',]\n",
    "url_10K_2016 = ['https://results.changeofpace.com/results.aspx?CId=16356&RId=188&EId=2',\n",
    "                'https://results.changeofpace.com/results.aspx?CId=16356&RId=188&EId=2&dt=0&PageNo=2',\n",
    "                'https://results.changeofpace.com/results.aspx?CId=16356&RId=188&EId=2&dt=0&PageNo=3',\n",
    "                'https://results.changeofpace.com/results.aspx?CId=16356&RId=188&EId=2&dt=0&PageNo=4',]\n",
    "url_5K_2015 = ['https://results.changeofpace.com/results.aspx?CId=16356&RId=148',\n",
    "               'https://results.changeofpace.com/results.aspx?CId=16356&RId=148&EId=1&dt=0&PageNo=2',\n",
    "               'https://results.changeofpace.com/results.aspx?CId=16356&RId=148&EId=1&dt=0&PageNo=3',\n",
    "               'https://results.changeofpace.com/results.aspx?CId=16356&RId=148&EId=1&dt=0&PageNo=4',\n",
    "               'https://results.changeofpace.com/results.aspx?CId=16356&RId=148&EId=1&dt=0&PageNo=5',\n",
    "               'https://results.changeofpace.com/results.aspx?CId=16356&RId=148&EId=1&dt=0&PageNo=6',\n",
    "               'https://results.changeofpace.com/results.aspx?CId=16356&RId=148&EId=1&dt=0&PageNo=7',]\n",
    "url_10K_2015 = ['https://results.changeofpace.com/results.aspx?CId=16356&RId=148&EId=2',\n",
    "                'https://results.changeofpace.com/results.aspx?CId=16356&RId=148&EId=2&dt=0&PageNo=2',\n",
    "                'https://results.changeofpace.com/results.aspx?CId=16356&RId=148&EId=2&dt=0&PageNo=3',\n",
    "                'https://results.changeofpace.com/results.aspx?CId=16356&RId=148&EId=2&dt=0&PageNo=4',\n",
    "                'https://results.changeofpace.com/results.aspx?CId=16356&RId=148&EId=2&dt=0&PageNo=5',\n",
    "                'https://results.changeofpace.com/results.aspx?CId=16356&RId=148&EId=2&dt=0&PageNo=6',\n",
    "                'https://results.changeofpace.com/results.aspx?CId=16356&RId=148&EId=2&dt=0&PageNo=7',]\n",
    "url_5K_2014 = ['https://results.changeofpace.com/results.aspx?CId=16356&RId=92',\n",
    "               'https://results.changeofpace.com/results.aspx?CId=16356&RId=92&EId=1&dt=0&PageNo=2',\n",
    "               'https://results.changeofpace.com/results.aspx?CId=16356&RId=92&EId=1&dt=0&PageNo=3',\n",
    "               'https://results.changeofpace.com/results.aspx?CId=16356&RId=92&EId=1&dt=0&PageNo=4',\n",
    "               'https://results.changeofpace.com/results.aspx?CId=16356&RId=92&EId=1&dt=0&PageNo=5',\n",
    "               'https://results.changeofpace.com/results.aspx?CId=16356&RId=92&EId=1&dt=0&PageNo=6',\n",
    "               'https://results.changeofpace.com/results.aspx?CId=16356&RId=92&EId=1&dt=0&PageNo=7',\n",
    "               'https://results.changeofpace.com/results.aspx?CId=16356&RId=92&EId=1&dt=0&PageNo=8',]\n",
    "url_10K_2014 = ['https://results.changeofpace.com/results.aspx?CId=16356&RId=92&EId=2',\n",
    "                'https://results.changeofpace.com/results.aspx?CId=16356&RId=92&EId=2&dt=0&PageNo=2',\n",
    "                'https://results.changeofpace.com/results.aspx?CId=16356&RId=92&EId=2&dt=0&PageNo=3',\n",
    "                'https://results.changeofpace.com/results.aspx?CId=16356&RId=92&EId=2&dt=0&PageNo=4',\n",
    "                'https://results.changeofpace.com/results.aspx?CId=16356&RId=92&EId=2&dt=0&PageNo=5',\n",
    "                'https://results.changeofpace.com/results.aspx?CId=16356&RId=92&EId=2&dt=0&PageNo=6',\n",
    "                'https://results.changeofpace.com/results.aspx?CId=16356&RId=92&EId=2&dt=0&PageNo=7',]\n",
    "url_5K_2013 = ['https://results.changeofpace.com/results.aspx?CId=16356&RId=30',]\n",
    "url_10K_2013 = ['https://results.changeofpace.com/results.aspx?CId=16356&RId=30&EId=2',]"
   ]
  },
  {
   "cell_type": "markdown",
   "metadata": {},
   "source": [
    "#### Create Dataframe from all the URLs"
   ]
  },
  {
   "cell_type": "code",
   "execution_count": 6,
   "metadata": {},
   "outputs": [],
   "source": [
    "years = [2023, 2022, 2019, 2018, 2017, 2016, 2015, 2014, 2013]\n",
    "doc_types = ['5K', '10K']\n",
    "dfs = {f\"df_{year}_{doc_type}\": pd.DataFrame() for year in years for doc_type in doc_types}\n",
    "for year in years:\n",
    "    for doc_type in doc_types:\n",
    "        for url in globals()[f\"url_{doc_type}_{year}\"]:\n",
    "            df = generate_dataframe(url, doc_type, year)\n",
    "            dfs[f\"df_{year}_{doc_type}\"] = pd.concat([dfs[f\"df_{year}_{doc_type}\"], df], ignore_index=True)\n",
    "all_dfs = pd.concat(dfs.values(),axis=0)"
   ]
  },
  {
   "cell_type": "markdown",
   "metadata": {},
   "source": [
    "#### Store as a `csv` File"
   ]
  },
  {
   "cell_type": "code",
   "execution_count": 7,
   "metadata": {},
   "outputs": [],
   "source": [
    "all_dfs.to_csv('data/all_data.csv', index=False)"
   ]
  },
  {
   "cell_type": "markdown",
   "metadata": {},
   "source": [
    "## Data Processing"
   ]
  },
  {
   "cell_type": "markdown",
   "metadata": {},
   "source": [
    "Load dataframe"
   ]
  },
  {
   "cell_type": "code",
   "execution_count": 29,
   "metadata": {},
   "outputs": [],
   "source": [
    "df = pd.read_csv('data/all_data.csv')"
   ]
  },
  {
   "cell_type": "markdown",
   "metadata": {},
   "source": [
    "Reset index"
   ]
  },
  {
   "cell_type": "code",
   "execution_count": 30,
   "metadata": {},
   "outputs": [
    {
     "data": {
      "text/html": [
       "<div>\n",
       "<style scoped>\n",
       "    .dataframe tbody tr th:only-of-type {\n",
       "        vertical-align: middle;\n",
       "    }\n",
       "\n",
       "    .dataframe tbody tr th {\n",
       "        vertical-align: top;\n",
       "    }\n",
       "\n",
       "    .dataframe thead th {\n",
       "        text-align: right;\n",
       "    }\n",
       "</style>\n",
       "<table border=\"1\" class=\"dataframe\">\n",
       "  <thead>\n",
       "    <tr style=\"text-align: right;\">\n",
       "      <th></th>\n",
       "      <th>Name</th>\n",
       "      <th>Age</th>\n",
       "      <th>Time</th>\n",
       "      <th>Gender</th>\n",
       "      <th>Distance</th>\n",
       "      <th>Year</th>\n",
       "    </tr>\n",
       "  </thead>\n",
       "  <tbody>\n",
       "    <tr>\n",
       "      <th>1</th>\n",
       "      <td>William Liu</td>\n",
       "      <td>19</td>\n",
       "      <td>16:15.33</td>\n",
       "      <td>Male</td>\n",
       "      <td>5K</td>\n",
       "      <td>2023</td>\n",
       "    </tr>\n",
       "  </tbody>\n",
       "</table>\n",
       "</div>"
      ],
      "text/plain": [
       "          Name  Age      Time Gender Distance  Year\n",
       "1  William Liu   19  16:15.33   Male       5K  2023"
      ]
     },
     "execution_count": 30,
     "metadata": {},
     "output_type": "execute_result"
    }
   ],
   "source": [
    "df.index = np.arange(1, len(df) + 1)\n",
    "df.head(1)"
   ]
  },
  {
   "cell_type": "markdown",
   "metadata": {},
   "source": [
    "#### Add Columns to Dataframe"
   ]
  },
  {
   "cell_type": "markdown",
   "metadata": {},
   "source": [
    "add `Age_group` column"
   ]
  },
  {
   "cell_type": "code",
   "execution_count": 31,
   "metadata": {},
   "outputs": [
    {
     "data": {
      "text/html": [
       "<div>\n",
       "<style scoped>\n",
       "    .dataframe tbody tr th:only-of-type {\n",
       "        vertical-align: middle;\n",
       "    }\n",
       "\n",
       "    .dataframe tbody tr th {\n",
       "        vertical-align: top;\n",
       "    }\n",
       "\n",
       "    .dataframe thead th {\n",
       "        text-align: right;\n",
       "    }\n",
       "</style>\n",
       "<table border=\"1\" class=\"dataframe\">\n",
       "  <thead>\n",
       "    <tr style=\"text-align: right;\">\n",
       "      <th></th>\n",
       "      <th>Name</th>\n",
       "      <th>Age</th>\n",
       "      <th>Age_group</th>\n",
       "      <th>Time</th>\n",
       "      <th>Gender</th>\n",
       "      <th>Distance</th>\n",
       "      <th>Year</th>\n",
       "    </tr>\n",
       "  </thead>\n",
       "  <tbody>\n",
       "    <tr>\n",
       "      <th>1</th>\n",
       "      <td>William Liu</td>\n",
       "      <td>19</td>\n",
       "      <td>10 - 19</td>\n",
       "      <td>16:15.33</td>\n",
       "      <td>Male</td>\n",
       "      <td>5K</td>\n",
       "      <td>2023</td>\n",
       "    </tr>\n",
       "  </tbody>\n",
       "</table>\n",
       "</div>"
      ],
      "text/plain": [
       "          Name  Age Age_group      Time Gender Distance  Year\n",
       "1  William Liu   19   10 - 19  16:15.33   Male       5K  2023"
      ]
     },
     "execution_count": 31,
     "metadata": {},
     "output_type": "execute_result"
    }
   ],
   "source": [
    "age_groups = ['< 10', '10 - 19', '20 - 29', '30 - 39',\n",
    "               '40 - 49', '50 - 59', '60 - 69', '70 - 79',\n",
    "                '80 - 89', '> 90']\n",
    "df['Age_group'] = pd.cut(df['Age'], bins=[0, 10, 20, 30, 40, 50, 60, 70, 80, 90, float('inf')], \n",
    "                         labels=age_groups, right=False)\n",
    "# change column order\n",
    "df.insert(2, 'Age_group', df.pop('Age_group'))\n",
    "df.head(1)"
   ]
  },
  {
   "cell_type": "markdown",
   "metadata": {},
   "source": [
    "Convert `Time` from string to `minute` in float formatting"
   ]
  },
  {
   "cell_type": "code",
   "execution_count": 32,
   "metadata": {},
   "outputs": [
    {
     "data": {
      "text/html": [
       "<div>\n",
       "<style scoped>\n",
       "    .dataframe tbody tr th:only-of-type {\n",
       "        vertical-align: middle;\n",
       "    }\n",
       "\n",
       "    .dataframe tbody tr th {\n",
       "        vertical-align: top;\n",
       "    }\n",
       "\n",
       "    .dataframe thead th {\n",
       "        text-align: right;\n",
       "    }\n",
       "</style>\n",
       "<table border=\"1\" class=\"dataframe\">\n",
       "  <thead>\n",
       "    <tr style=\"text-align: right;\">\n",
       "      <th></th>\n",
       "      <th>Name</th>\n",
       "      <th>Age</th>\n",
       "      <th>Age_group</th>\n",
       "      <th>Time (min)</th>\n",
       "      <th>Gender</th>\n",
       "      <th>Distance</th>\n",
       "      <th>Year</th>\n",
       "    </tr>\n",
       "  </thead>\n",
       "  <tbody>\n",
       "    <tr>\n",
       "      <th>1</th>\n",
       "      <td>William Liu</td>\n",
       "      <td>19</td>\n",
       "      <td>10 - 19</td>\n",
       "      <td>16.25</td>\n",
       "      <td>Male</td>\n",
       "      <td>5K</td>\n",
       "      <td>2023</td>\n",
       "    </tr>\n",
       "  </tbody>\n",
       "</table>\n",
       "</div>"
      ],
      "text/plain": [
       "          Name  Age Age_group  Time (min) Gender Distance  Year\n",
       "1  William Liu   19   10 - 19       16.25   Male       5K  2023"
      ]
     },
     "execution_count": 32,
     "metadata": {},
     "output_type": "execute_result"
    }
   ],
   "source": [
    "from datetime import datetime\n",
    "df = df[df['Time'] != \"Not started\"]\n",
    "df = df[df['Time'] != \"Started\"]\n",
    "df = df[df['Time'] != \"0.00\"]\n",
    "df = df[df['Time'] != \"DQ\"]\n",
    "def time_to_minutes(time_str):\n",
    "    if len(time_str) < 10:\n",
    "        time_obj = datetime.strptime(time_str, '%M:%S.%f')\n",
    "    else:\n",
    "        time_obj = datetime.strptime(time_str, '%H:%M:%S.%f')\n",
    "\n",
    "    total_minutes = time_obj.hour * 60 + time_obj.minute + time_obj.second / 60\n",
    "    return total_minutes\n",
    "\n",
    "df['Time'] = df['Time'].apply(time_to_minutes)\n",
    "df['Time'] = df['Time'].apply(lambda x: round(float(x), 3))\n",
    "df.rename(columns={'Time': 'Time (min)'}, inplace=True)\n",
    "\n",
    "df.head(1)"
   ]
  },
  {
   "cell_type": "markdown",
   "metadata": {},
   "source": [
    "add `Speed (Km/h)` column"
   ]
  },
  {
   "cell_type": "code",
   "execution_count": 33,
   "metadata": {},
   "outputs": [
    {
     "data": {
      "text/html": [
       "<div>\n",
       "<style scoped>\n",
       "    .dataframe tbody tr th:only-of-type {\n",
       "        vertical-align: middle;\n",
       "    }\n",
       "\n",
       "    .dataframe tbody tr th {\n",
       "        vertical-align: top;\n",
       "    }\n",
       "\n",
       "    .dataframe thead th {\n",
       "        text-align: right;\n",
       "    }\n",
       "</style>\n",
       "<table border=\"1\" class=\"dataframe\">\n",
       "  <thead>\n",
       "    <tr style=\"text-align: right;\">\n",
       "      <th></th>\n",
       "      <th>Name</th>\n",
       "      <th>Age</th>\n",
       "      <th>Age_group</th>\n",
       "      <th>Time (min)</th>\n",
       "      <th>Gender</th>\n",
       "      <th>Speed (Km/h)</th>\n",
       "      <th>Distance</th>\n",
       "      <th>Year</th>\n",
       "    </tr>\n",
       "  </thead>\n",
       "  <tbody>\n",
       "    <tr>\n",
       "      <th>1</th>\n",
       "      <td>William Liu</td>\n",
       "      <td>19</td>\n",
       "      <td>10 - 19</td>\n",
       "      <td>16.25</td>\n",
       "      <td>Male</td>\n",
       "      <td>18.462</td>\n",
       "      <td>5K</td>\n",
       "      <td>2023</td>\n",
       "    </tr>\n",
       "  </tbody>\n",
       "</table>\n",
       "</div>"
      ],
      "text/plain": [
       "          Name  Age Age_group  Time (min) Gender  Speed (Km/h) Distance  Year\n",
       "1  William Liu   19   10 - 19       16.25   Male        18.462       5K  2023"
      ]
     },
     "execution_count": 33,
     "metadata": {},
     "output_type": "execute_result"
    }
   ],
   "source": [
    "def time_to_speed(row):\n",
    "    distance = float(row['Distance'][:-1]) \n",
    "    time_minutes = row['Time (min)']\n",
    "    speed_kph = distance / (time_minutes / 60)\n",
    "    return speed_kph\n",
    "\n",
    "df['Speed (Km/h)'] = df.apply(time_to_speed, axis=1)\n",
    "df['Speed (Km/h)'] = df['Speed (Km/h)'].apply(lambda x: round(float(x), 3))\n",
    "\n",
    "# change column order\n",
    "df.insert(5, 'Speed (Km/h)', df.pop('Speed (Km/h)'))\n",
    "df.head(1)"
   ]
  },
  {
   "cell_type": "markdown",
   "metadata": {},
   "source": [
    "add `Pace (min/Km)` column"
   ]
  },
  {
   "cell_type": "code",
   "execution_count": 34,
   "metadata": {},
   "outputs": [
    {
     "data": {
      "text/html": [
       "<div>\n",
       "<style scoped>\n",
       "    .dataframe tbody tr th:only-of-type {\n",
       "        vertical-align: middle;\n",
       "    }\n",
       "\n",
       "    .dataframe tbody tr th {\n",
       "        vertical-align: top;\n",
       "    }\n",
       "\n",
       "    .dataframe thead th {\n",
       "        text-align: right;\n",
       "    }\n",
       "</style>\n",
       "<table border=\"1\" class=\"dataframe\">\n",
       "  <thead>\n",
       "    <tr style=\"text-align: right;\">\n",
       "      <th></th>\n",
       "      <th>Name</th>\n",
       "      <th>Age</th>\n",
       "      <th>Age_group</th>\n",
       "      <th>Time (min)</th>\n",
       "      <th>Gender</th>\n",
       "      <th>Pace (min/Km)</th>\n",
       "      <th>Speed (Km/h)</th>\n",
       "      <th>Distance</th>\n",
       "      <th>Year</th>\n",
       "    </tr>\n",
       "  </thead>\n",
       "  <tbody>\n",
       "    <tr>\n",
       "      <th>1</th>\n",
       "      <td>William Liu</td>\n",
       "      <td>19</td>\n",
       "      <td>10 - 19</td>\n",
       "      <td>16.25</td>\n",
       "      <td>Male</td>\n",
       "      <td>3.25</td>\n",
       "      <td>18.462</td>\n",
       "      <td>5K</td>\n",
       "      <td>2023</td>\n",
       "    </tr>\n",
       "  </tbody>\n",
       "</table>\n",
       "</div>"
      ],
      "text/plain": [
       "          Name  Age Age_group  Time (min) Gender  Pace (min/Km)  Speed (Km/h)  \\\n",
       "1  William Liu   19   10 - 19       16.25   Male           3.25        18.462   \n",
       "\n",
       "  Distance  Year  \n",
       "1       5K  2023  "
      ]
     },
     "execution_count": 34,
     "metadata": {},
     "output_type": "execute_result"
    }
   ],
   "source": [
    "def time_to_pace(row):\n",
    "    distance = float(row['Distance'][:-1]) \n",
    "    time_minutes = row['Time (min)']\n",
    "    pace_min_Km = time_minutes / distance\n",
    "    return pace_min_Km\n",
    "\n",
    "df['Pace (min/Km)'] = df.apply(time_to_pace, axis=1)\n",
    "df['Pace (min/Km)'] = df['Pace (min/Km)'].apply(lambda x: round(float(x), 3))\n",
    "\n",
    "# change column order\n",
    "df.insert(5, 'Pace (min/Km)', df.pop('Pace (min/Km)'))\n",
    "df.head(1)"
   ]
  },
  {
   "cell_type": "code",
   "execution_count": 35,
   "metadata": {},
   "outputs": [],
   "source": [
    "df.to_csv('data/processed.csv', index=False)"
   ]
  },
  {
   "cell_type": "markdown",
   "metadata": {},
   "source": [
    "The code and reports about `Data Processing` were written by Bao Hu"
   ]
  },
  {
   "cell_type": "markdown",
   "metadata": {},
   "source": [
    "# Data Analysis"
   ]
  },
  {
   "cell_type": "markdown",
   "metadata": {},
   "source": [
    "load dataframe"
   ]
  },
  {
   "cell_type": "code",
   "execution_count": 37,
   "metadata": {},
   "outputs": [],
   "source": [
    "df = pd.read_csv(\"data/processed.csv\")"
   ]
  },
  {
   "cell_type": "markdown",
   "metadata": {},
   "source": [
    "#### Inspect Data"
   ]
  },
  {
   "cell_type": "code",
   "execution_count": 38,
   "metadata": {},
   "outputs": [
    {
     "data": {
      "text/html": [
       "<div>\n",
       "<style scoped>\n",
       "    .dataframe tbody tr th:only-of-type {\n",
       "        vertical-align: middle;\n",
       "    }\n",
       "\n",
       "    .dataframe tbody tr th {\n",
       "        vertical-align: top;\n",
       "    }\n",
       "\n",
       "    .dataframe thead th {\n",
       "        text-align: right;\n",
       "    }\n",
       "</style>\n",
       "<table border=\"1\" class=\"dataframe\">\n",
       "  <thead>\n",
       "    <tr style=\"text-align: right;\">\n",
       "      <th></th>\n",
       "      <th>Age_group</th>\n",
       "      <th>count</th>\n",
       "    </tr>\n",
       "  </thead>\n",
       "  <tbody>\n",
       "    <tr>\n",
       "      <th>0</th>\n",
       "      <td>10 - 19</td>\n",
       "      <td>376</td>\n",
       "    </tr>\n",
       "    <tr>\n",
       "      <th>1</th>\n",
       "      <td>20 - 29</td>\n",
       "      <td>528</td>\n",
       "    </tr>\n",
       "    <tr>\n",
       "      <th>2</th>\n",
       "      <td>30 - 39</td>\n",
       "      <td>833</td>\n",
       "    </tr>\n",
       "    <tr>\n",
       "      <th>3</th>\n",
       "      <td>40 - 49</td>\n",
       "      <td>882</td>\n",
       "    </tr>\n",
       "    <tr>\n",
       "      <th>4</th>\n",
       "      <td>50 - 59</td>\n",
       "      <td>701</td>\n",
       "    </tr>\n",
       "    <tr>\n",
       "      <th>5</th>\n",
       "      <td>60 - 69</td>\n",
       "      <td>428</td>\n",
       "    </tr>\n",
       "    <tr>\n",
       "      <th>6</th>\n",
       "      <td>70 - 79</td>\n",
       "      <td>165</td>\n",
       "    </tr>\n",
       "    <tr>\n",
       "      <th>7</th>\n",
       "      <td>80 - 89</td>\n",
       "      <td>27</td>\n",
       "    </tr>\n",
       "    <tr>\n",
       "      <th>8</th>\n",
       "      <td>&lt; 10</td>\n",
       "      <td>107</td>\n",
       "    </tr>\n",
       "    <tr>\n",
       "      <th>9</th>\n",
       "      <td>&gt; 90</td>\n",
       "      <td>3</td>\n",
       "    </tr>\n",
       "  </tbody>\n",
       "</table>\n",
       "</div>"
      ],
      "text/plain": [
       "  Age_group  count\n",
       "0   10 - 19    376\n",
       "1   20 - 29    528\n",
       "2   30 - 39    833\n",
       "3   40 - 49    882\n",
       "4   50 - 59    701\n",
       "5   60 - 69    428\n",
       "6   70 - 79    165\n",
       "7   80 - 89     27\n",
       "8      < 10    107\n",
       "9      > 90      3"
      ]
     },
     "execution_count": 38,
     "metadata": {},
     "output_type": "execute_result"
    }
   ],
   "source": [
    "grouped_df = df.groupby('Age_group').size().reset_index(name='count')\n",
    "grouped_df"
   ]
  }
 ],
 "metadata": {
  "kernelspec": {
   "display_name": "Python 3 (ipykernel)",
   "language": "python",
   "name": "python3"
  },
  "language_info": {
   "codemirror_mode": {
    "name": "ipython",
    "version": 3
   },
   "file_extension": ".py",
   "mimetype": "text/x-python",
   "name": "python",
   "nbconvert_exporter": "python",
   "pygments_lexer": "ipython3",
   "version": "3.9.6"
  }
 },
 "nbformat": 4,
 "nbformat_minor": 2
}
