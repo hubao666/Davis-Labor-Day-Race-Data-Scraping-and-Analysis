{
 "cells": [
  {
   "cell_type": "markdown",
   "metadata": {},
   "source": [
    "Import libraries"
   ]
  },
  {
   "cell_type": "code",
   "execution_count": 2,
   "metadata": {},
   "outputs": [
    {
     "name": "stderr",
     "output_type": "stream",
     "text": [
      "/Users/baohu/Library/Python/3.9/lib/python/site-packages/urllib3/__init__.py:34: NotOpenSSLWarning: urllib3 v2.0 only supports OpenSSL 1.1.1+, currently the 'ssl' module is compiled with 'LibreSSL 2.8.3'. See: https://github.com/urllib3/urllib3/issues/3020\n",
      "  warnings.warn(\n"
     ]
    }
   ],
   "source": [
    "import requests\n",
    "import pandas as pd\n",
    "from bs4 import BeautifulSoup\n",
    "import re\n"
   ]
  },
  {
   "cell_type": "markdown",
   "metadata": {},
   "source": [
    "request and parse to html file"
   ]
  },
  {
   "cell_type": "code",
   "execution_count": 3,
   "metadata": {},
   "outputs": [],
   "source": [
    "\n",
    "URL_10k_p2_2023 = 'https://results.changeofpace.com/results.aspx?CId=16356&RId=6121&EId=2&dt=0&PageNo=2'\n",
    "response = requests.get(URL_10k_p2_2023)\n",
    "response.raise_for_status()"
   ]
  },
  {
   "cell_type": "markdown",
   "metadata": {},
   "source": [
    "### Develop get_ages(response)"
   ]
  },
  {
   "cell_type": "code",
   "execution_count": 101,
   "metadata": {},
   "outputs": [
    {
     "data": {
      "text/plain": [
       "[<td class=\"d-none d-sm-table-cell\">191</td>,\n",
       " <td class=\"d-none d-sm-table-cell\">1</td>,\n",
       " <td class=\"d-none d-sm-table-cell\">45</td>,\n",
       " <td class=\"d-none d-sm-table-cell\">1</td>,\n",
       " <td class=\"d-none d-sm-table-cell\">5:26 min/m</td>,\n",
       " <td class=\"d-none d-sm-table-cell\">555</td>,\n",
       " <td class=\"d-none d-sm-table-cell\">1</td>,\n",
       " <td class=\"d-none d-sm-table-cell\">27</td>,\n",
       " <td class=\"d-none d-sm-table-cell\">2</td>,\n",
       " <td class=\"d-none d-sm-table-cell\">5:28 min/m</td>,\n",
       " <td class=\"d-none d-sm-table-cell\">537</td>,\n",
       " <td class=\"d-none d-sm-table-cell\">1</td>,\n",
       " <td class=\"d-none d-sm-table-cell\">16</td>,\n",
       " <td class=\"d-none d-sm-table-cell\">3</td>,\n",
       " <td class=\"d-none d-sm-table-cell\">5:28 min/m</td>,\n",
       " <td class=\"d-none d-sm-table-cell\">81</td>,\n",
       " <td class=\"d-none d-sm-table-cell\">2</td>,\n",
       " <td class=\"d-none d-sm-table-cell\">28</td>,\n",
       " <td class=\"d-none d-sm-table-cell\">4</td>,\n",
       " <td class=\"d-none d-sm-table-cell\">5:29 min/m</td>,\n",
       " <td class=\"d-none d-sm-table-cell\">500</td>,\n",
       " <td class=\"d-none d-sm-table-cell\">1</td>,\n",
       " <td class=\"d-none d-sm-table-cell\">32</td>,\n",
       " <td class=\"d-none d-sm-table-cell\">5</td>,\n",
       " <td class=\"d-none d-sm-table-cell\">5:33 min/m</td>,\n",
       " <td class=\"d-none d-sm-table-cell\">499</td>,\n",
       " <td class=\"d-none d-sm-table-cell\">3</td>,\n",
       " <td class=\"d-none d-sm-table-cell\">28</td>,\n",
       " <td class=\"d-none d-sm-table-cell\">6</td>,\n",
       " <td class=\"d-none d-sm-table-cell\">5:44 min/m</td>,\n",
       " <td class=\"d-none d-sm-table-cell\">539</td>,\n",
       " <td class=\"d-none d-sm-table-cell\">2</td>,\n",
       " <td class=\"d-none d-sm-table-cell\">17</td>,\n",
       " <td class=\"d-none d-sm-table-cell\">7</td>,\n",
       " <td class=\"d-none d-sm-table-cell\">5:47 min/m</td>,\n",
       " <td class=\"d-none d-sm-table-cell\">510</td>,\n",
       " <td class=\"d-none d-sm-table-cell\">3</td>,\n",
       " <td class=\"d-none d-sm-table-cell\">16</td>,\n",
       " <td class=\"d-none d-sm-table-cell\">8</td>,\n",
       " <td class=\"d-none d-sm-table-cell\">5:48 min/m</td>,\n",
       " <td class=\"d-none d-sm-table-cell\">168</td>,\n",
       " <td class=\"d-none d-sm-table-cell\">1</td>,\n",
       " <td class=\"d-none d-sm-table-cell\">51</td>,\n",
       " <td class=\"d-none d-sm-table-cell\">9</td>,\n",
       " <td class=\"d-none d-sm-table-cell\">5:48 min/m</td>,\n",
       " <td class=\"d-none d-sm-table-cell\">287</td>,\n",
       " <td class=\"d-none d-sm-table-cell\">2</td>,\n",
       " <td class=\"d-none d-sm-table-cell\">48</td>,\n",
       " <td class=\"d-none d-sm-table-cell\">10</td>,\n",
       " <td class=\"d-none d-sm-table-cell\">5:55 min/m</td>,\n",
       " <td class=\"d-none d-sm-table-cell\">1</td>,\n",
       " <td class=\"d-none d-sm-table-cell\">1</td>,\n",
       " <td class=\"d-none d-sm-table-cell\">14</td>,\n",
       " <td class=\"d-none d-sm-table-cell\">11</td>,\n",
       " <td class=\"d-none d-sm-table-cell\">6:02 min/m</td>,\n",
       " <td class=\"d-none d-sm-table-cell\">38</td>,\n",
       " <td class=\"d-none d-sm-table-cell\">4</td>,\n",
       " <td class=\"d-none d-sm-table-cell\">26</td>,\n",
       " <td class=\"d-none d-sm-table-cell\">12</td>,\n",
       " <td class=\"d-none d-sm-table-cell\">6:06 min/m</td>,\n",
       " <td class=\"d-none d-sm-table-cell\">181</td>,\n",
       " <td class=\"d-none d-sm-table-cell\">2</td>,\n",
       " <td class=\"d-none d-sm-table-cell\">54</td>,\n",
       " <td class=\"d-none d-sm-table-cell\">13</td>,\n",
       " <td class=\"d-none d-sm-table-cell\">6:12 min/m</td>,\n",
       " <td class=\"d-none d-sm-table-cell\">515</td>,\n",
       " <td class=\"d-none d-sm-table-cell\">1</td>,\n",
       " <td class=\"d-none d-sm-table-cell\">17</td>,\n",
       " <td class=\"d-none d-sm-table-cell\">1</td>,\n",
       " <td class=\"d-none d-sm-table-cell\">6:12 min/m</td>,\n",
       " <td class=\"d-none d-sm-table-cell\">84</td>,\n",
       " <td class=\"d-none d-sm-table-cell\">3</td>,\n",
       " <td class=\"d-none d-sm-table-cell\">40</td>,\n",
       " <td class=\"d-none d-sm-table-cell\">14</td>,\n",
       " <td class=\"d-none d-sm-table-cell\">6:14 min/m</td>,\n",
       " <td class=\"d-none d-sm-table-cell\">3</td>,\n",
       " <td class=\"d-none d-sm-table-cell\">1</td>,\n",
       " <td class=\"d-none d-sm-table-cell\">14</td>,\n",
       " <td class=\"d-none d-sm-table-cell\">2</td>,\n",
       " <td class=\"d-none d-sm-table-cell\">6:14 min/m</td>,\n",
       " <td class=\"d-none d-sm-table-cell\">550</td>,\n",
       " <td class=\"d-none d-sm-table-cell\">2</td>,\n",
       " <td class=\"d-none d-sm-table-cell\">15</td>,\n",
       " <td class=\"d-none d-sm-table-cell\">3</td>,\n",
       " <td class=\"d-none d-sm-table-cell\">6:15 min/m</td>,\n",
       " <td class=\"d-none d-sm-table-cell\">21</td>,\n",
       " <td class=\"d-none d-sm-table-cell\">1</td>,\n",
       " <td class=\"d-none d-sm-table-cell\">0</td>,\n",
       " <td class=\"d-none d-sm-table-cell\">15</td>,\n",
       " <td class=\"d-none d-sm-table-cell\">6:15 min/m</td>,\n",
       " <td class=\"d-none d-sm-table-cell\">221</td>,\n",
       " <td class=\"d-none d-sm-table-cell\">5</td>,\n",
       " <td class=\"d-none d-sm-table-cell\">29</td>,\n",
       " <td class=\"d-none d-sm-table-cell\">16</td>,\n",
       " <td class=\"d-none d-sm-table-cell\">6:18 min/m</td>,\n",
       " <td class=\"d-none d-sm-table-cell\">4</td>,\n",
       " <td class=\"d-none d-sm-table-cell\">4</td>,\n",
       " <td class=\"d-none d-sm-table-cell\">46</td>,\n",
       " <td class=\"d-none d-sm-table-cell\">17</td>,\n",
       " <td class=\"d-none d-sm-table-cell\">6:19 min/m</td>,\n",
       " <td class=\"d-none d-sm-table-cell\">280</td>,\n",
       " <td class=\"d-none d-sm-table-cell\">6</td>,\n",
       " <td class=\"d-none d-sm-table-cell\">28</td>,\n",
       " <td class=\"d-none d-sm-table-cell\">18</td>,\n",
       " <td class=\"d-none d-sm-table-cell\">6:22 min/m</td>,\n",
       " <td class=\"d-none d-sm-table-cell\">492</td>,\n",
       " <td class=\"d-none d-sm-table-cell\">2</td>,\n",
       " <td class=\"d-none d-sm-table-cell\">13</td>,\n",
       " <td class=\"d-none d-sm-table-cell\">19</td>,\n",
       " <td class=\"d-none d-sm-table-cell\">6:25 min/m</td>,\n",
       " <td class=\"d-none d-sm-table-cell\">283</td>,\n",
       " <td class=\"d-none d-sm-table-cell\">3</td>,\n",
       " <td class=\"d-none d-sm-table-cell\">9</td>,\n",
       " <td class=\"d-none d-sm-table-cell\">20</td>,\n",
       " <td class=\"d-none d-sm-table-cell\">6:26 min/m</td>,\n",
       " <td class=\"d-none d-sm-table-cell\">538</td>,\n",
       " <td class=\"d-none d-sm-table-cell\">2</td>,\n",
       " <td class=\"d-none d-sm-table-cell\">10</td>,\n",
       " <td class=\"d-none d-sm-table-cell\">4</td>,\n",
       " <td class=\"d-none d-sm-table-cell\">6:30 min/m</td>,\n",
       " <td class=\"d-none d-sm-table-cell\">482</td>,\n",
       " <td class=\"d-none d-sm-table-cell\">5</td>,\n",
       " <td class=\"d-none d-sm-table-cell\">47</td>,\n",
       " <td class=\"d-none d-sm-table-cell\">21</td>,\n",
       " <td class=\"d-none d-sm-table-cell\">6:30 min/m</td>,\n",
       " <td class=\"d-none d-sm-table-cell\">54</td>,\n",
       " <td class=\"d-none d-sm-table-cell\">3</td>,\n",
       " <td class=\"d-none d-sm-table-cell\">59</td>,\n",
       " <td class=\"d-none d-sm-table-cell\">22</td>,\n",
       " <td class=\"d-none d-sm-table-cell\">6:31 min/m</td>,\n",
       " <td class=\"d-none d-sm-table-cell\">196</td>,\n",
       " <td class=\"d-none d-sm-table-cell\">1</td>,\n",
       " <td class=\"d-none d-sm-table-cell\">25</td>,\n",
       " <td class=\"d-none d-sm-table-cell\">5</td>,\n",
       " <td class=\"d-none d-sm-table-cell\">6:36 min/m</td>,\n",
       " <td class=\"d-none d-sm-table-cell\">167</td>,\n",
       " <td class=\"d-none d-sm-table-cell\">4</td>,\n",
       " <td class=\"d-none d-sm-table-cell\">51</td>,\n",
       " <td class=\"d-none d-sm-table-cell\">23</td>,\n",
       " <td class=\"d-none d-sm-table-cell\">6:36 min/m</td>,\n",
       " <td class=\"d-none d-sm-table-cell\">271</td>,\n",
       " <td class=\"d-none d-sm-table-cell\">7</td>,\n",
       " <td class=\"d-none d-sm-table-cell\">28</td>,\n",
       " <td class=\"d-none d-sm-table-cell\">24</td>,\n",
       " <td class=\"d-none d-sm-table-cell\">6:36 min/m</td>,\n",
       " <td class=\"d-none d-sm-table-cell\">552</td>,\n",
       " <td class=\"d-none d-sm-table-cell\">1</td>,\n",
       " <td class=\"d-none d-sm-table-cell\">51</td>,\n",
       " <td class=\"d-none d-sm-table-cell\">6</td>,\n",
       " <td class=\"d-none d-sm-table-cell\">6:38 min/m</td>,\n",
       " <td class=\"d-none d-sm-table-cell\">124</td>,\n",
       " <td class=\"d-none d-sm-table-cell\">3</td>,\n",
       " <td class=\"d-none d-sm-table-cell\">15</td>,\n",
       " <td class=\"d-none d-sm-table-cell\">7</td>,\n",
       " <td class=\"d-none d-sm-table-cell\">6:39 min/m</td>,\n",
       " <td class=\"d-none d-sm-table-cell\">72</td>,\n",
       " <td class=\"d-none d-sm-table-cell\">8</td>,\n",
       " <td class=\"d-none d-sm-table-cell\">22</td>,\n",
       " <td class=\"d-none d-sm-table-cell\">25</td>,\n",
       " <td class=\"d-none d-sm-table-cell\">6:40 min/m</td>,\n",
       " <td class=\"d-none d-sm-table-cell\">284</td>,\n",
       " <td class=\"d-none d-sm-table-cell\">1</td>,\n",
       " <td class=\"d-none d-sm-table-cell\">37</td>,\n",
       " <td class=\"d-none d-sm-table-cell\">8</td>,\n",
       " <td class=\"d-none d-sm-table-cell\">6:42 min/m</td>,\n",
       " <td class=\"d-none d-sm-table-cell\">546</td>,\n",
       " <td class=\"d-none d-sm-table-cell\">4</td>,\n",
       " <td class=\"d-none d-sm-table-cell\">18</td>,\n",
       " <td class=\"d-none d-sm-table-cell\">26</td>,\n",
       " <td class=\"d-none d-sm-table-cell\">6:43 min/m</td>,\n",
       " <td class=\"d-none d-sm-table-cell\">61</td>,\n",
       " <td class=\"d-none d-sm-table-cell\">9</td>,\n",
       " <td class=\"d-none d-sm-table-cell\">29</td>,\n",
       " <td class=\"d-none d-sm-table-cell\">27</td>,\n",
       " <td class=\"d-none d-sm-table-cell\">6:45 min/m</td>,\n",
       " <td class=\"d-none d-sm-table-cell\">507</td>,\n",
       " <td class=\"d-none d-sm-table-cell\">10</td>,\n",
       " <td class=\"d-none d-sm-table-cell\">25</td>,\n",
       " <td class=\"d-none d-sm-table-cell\">28</td>,\n",
       " <td class=\"d-none d-sm-table-cell\">6:50 min/m</td>,\n",
       " <td class=\"d-none d-sm-table-cell\">108</td>,\n",
       " <td class=\"d-none d-sm-table-cell\">5</td>,\n",
       " <td class=\"d-none d-sm-table-cell\">53</td>,\n",
       " <td class=\"d-none d-sm-table-cell\">29</td>,\n",
       " <td class=\"d-none d-sm-table-cell\">6:52 min/m</td>,\n",
       " <td class=\"d-none d-sm-table-cell\">164</td>,\n",
       " <td class=\"d-none d-sm-table-cell\">11</td>,\n",
       " <td class=\"d-none d-sm-table-cell\">23</td>,\n",
       " <td class=\"d-none d-sm-table-cell\">30</td>,\n",
       " <td class=\"d-none d-sm-table-cell\">6:54 min/m</td>,\n",
       " <td class=\"d-none d-sm-table-cell\">149</td>,\n",
       " <td class=\"d-none d-sm-table-cell\">2</td>,\n",
       " <td class=\"d-none d-sm-table-cell\">35</td>,\n",
       " <td class=\"d-none d-sm-table-cell\">9</td>,\n",
       " <td class=\"d-none d-sm-table-cell\">6:55 min/m</td>,\n",
       " <td class=\"d-none d-sm-table-cell\">51</td>,\n",
       " <td class=\"d-none d-sm-table-cell\">6</td>,\n",
       " <td class=\"d-none d-sm-table-cell\">45</td>,\n",
       " <td class=\"d-none d-sm-table-cell\">31</td>,\n",
       " <td class=\"d-none d-sm-table-cell\">6:56 min/m</td>,\n",
       " <td class=\"d-none d-sm-table-cell\">520</td>,\n",
       " <td class=\"d-none d-sm-table-cell\">1</td>,\n",
       " <td class=\"d-none d-sm-table-cell\">61</td>,\n",
       " <td class=\"d-none d-sm-table-cell\">32</td>,\n",
       " <td class=\"d-none d-sm-table-cell\">6:59 min/m</td>,\n",
       " <td class=\"d-none d-sm-table-cell\">30</td>,\n",
       " <td class=\"d-none d-sm-table-cell\">7</td>,\n",
       " <td class=\"d-none d-sm-table-cell\">41</td>,\n",
       " <td class=\"d-none d-sm-table-cell\">33</td>,\n",
       " <td class=\"d-none d-sm-table-cell\">7:02 min/m</td>,\n",
       " <td class=\"d-none d-sm-table-cell\">490</td>,\n",
       " <td class=\"d-none d-sm-table-cell\">1</td>,\n",
       " <td class=\"d-none d-sm-table-cell\">45</td>,\n",
       " <td class=\"d-none d-sm-table-cell\">10</td>,\n",
       " <td class=\"d-none d-sm-table-cell\">7:04 min/m</td>,\n",
       " <td class=\"d-none d-sm-table-cell\">158</td>,\n",
       " <td class=\"d-none d-sm-table-cell\">2</td>,\n",
       " <td class=\"d-none d-sm-table-cell\">57</td>,\n",
       " <td class=\"d-none d-sm-table-cell\">11</td>,\n",
       " <td class=\"d-none d-sm-table-cell\">7:06 min/m</td>,\n",
       " <td class=\"d-none d-sm-table-cell\">135</td>,\n",
       " <td class=\"d-none d-sm-table-cell\">2</td>,\n",
       " <td class=\"d-none d-sm-table-cell\">21</td>,\n",
       " <td class=\"d-none d-sm-table-cell\">12</td>,\n",
       " <td class=\"d-none d-sm-table-cell\">7:06 min/m</td>,\n",
       " <td class=\"d-none d-sm-table-cell\">131</td>,\n",
       " <td class=\"d-none d-sm-table-cell\">8</td>,\n",
       " <td class=\"d-none d-sm-table-cell\">49</td>,\n",
       " <td class=\"d-none d-sm-table-cell\">34</td>,\n",
       " <td class=\"d-none d-sm-table-cell\">7:08 min/m</td>,\n",
       " <td class=\"d-none d-sm-table-cell\">77</td>,\n",
       " <td class=\"d-none d-sm-table-cell\">9</td>,\n",
       " <td class=\"d-none d-sm-table-cell\">44</td>,\n",
       " <td class=\"d-none d-sm-table-cell\">35</td>,\n",
       " <td class=\"d-none d-sm-table-cell\">7:09 min/m</td>,\n",
       " <td class=\"d-none d-sm-table-cell\">525</td>,\n",
       " <td class=\"d-none d-sm-table-cell\">2</td>,\n",
       " <td class=\"d-none d-sm-table-cell\">48</td>,\n",
       " <td class=\"d-none d-sm-table-cell\">13</td>,\n",
       " <td class=\"d-none d-sm-table-cell\">7:09 min/m</td>,\n",
       " <td class=\"d-none d-sm-table-cell\">297</td>,\n",
       " <td class=\"d-none d-sm-table-cell\">10</td>,\n",
       " <td class=\"d-none d-sm-table-cell\">40</td>,\n",
       " <td class=\"d-none d-sm-table-cell\">36</td>,\n",
       " <td class=\"d-none d-sm-table-cell\">7:10 min/m</td>,\n",
       " <td class=\"d-none d-sm-table-cell\">489</td>,\n",
       " <td class=\"d-none d-sm-table-cell\">3</td>,\n",
       " <td class=\"d-none d-sm-table-cell\">40</td>,\n",
       " <td class=\"d-none d-sm-table-cell\">14</td>,\n",
       " <td class=\"d-none d-sm-table-cell\">7:10 min/m</td>]"
      ]
     },
     "execution_count": 101,
     "metadata": {},
     "output_type": "execute_result"
    }
   ],
   "source": [
    "soup = BeautifulSoup(response.content, \"html.parser\")\n",
    "ages = soup.find_all('td' ,class_ = 'd-none d-sm-table-cell')\n",
    "ages"
   ]
  },
  {
   "cell_type": "code",
   "execution_count": 81,
   "metadata": {},
   "outputs": [],
   "source": [
    "extracted_values = [age.get_text() for age in ages]\n",
    "value_series = pd.Series(extracted_values)\n"
   ]
  },
  {
   "cell_type": "code",
   "execution_count": 82,
   "metadata": {},
   "outputs": [
    {
     "data": {
      "text/plain": [
       "0      327\n",
       "1       11\n",
       "2         \n",
       "3       10\n",
       "4      135\n",
       "      ... \n",
       "245    429\n",
       "246     21\n",
       "247       \n",
       "248     41\n",
       "249    151\n",
       "Length: 250, dtype: object"
      ]
     },
     "execution_count": 82,
     "metadata": {},
     "output_type": "execute_result"
    }
   ],
   "source": [
    "value_series"
   ]
  },
  {
   "cell_type": "markdown",
   "metadata": {},
   "source": [
    "The accurate age values are: 71, 39, 26, 58... Upon close examination, it appears that the correct age sequence begins at index 3 and is interspersed with every 4 non-age values."
   ]
  },
  {
   "cell_type": "code",
   "execution_count": 84,
   "metadata": {},
   "outputs": [
    {
     "data": {
      "text/plain": [
       "0    10.0\n",
       "1    41.0\n",
       "2    37.0\n",
       "3    79.0\n",
       "4    57.0\n",
       "dtype: float64"
      ]
     },
     "execution_count": 84,
     "metadata": {},
     "output_type": "execute_result"
    }
   ],
   "source": [
    "numeric_age_data = pd.to_numeric(value_series, errors='coerce')\n",
    "correct_data = numeric_age_data.iloc[3::5]\n",
    "correct_data.reset_index(drop=True, inplace=True)\n",
    "\n",
    "correct_data.head()"
   ]
  },
  {
   "cell_type": "markdown",
   "metadata": {},
   "source": [
    "### Develop get_times(response)"
   ]
  },
  {
   "cell_type": "code",
   "execution_count": 4,
   "metadata": {},
   "outputs": [
    {
     "data": {
      "text/plain": [
       "0    16:11.957\n",
       "1     Finished\n",
       "2    16:40.120\n",
       "3     Finished\n",
       "4    17:40.873\n",
       "5     Finished\n",
       "6    17:58.730\n",
       "7     Finished\n",
       "8    18:17.673\n",
       "9     Finished\n",
       "dtype: object"
      ]
     },
     "execution_count": 4,
     "metadata": {},
     "output_type": "execute_result"
    }
   ],
   "source": [
    "soup = BeautifulSoup(response.content, \"html.parser\")\n",
    "values = soup.find_all('td' ,class_ = 'd-none d-sm-table-cell ltw-time')\n",
    "extracted_values = [time.get_text() for time in values]\n",
    "value_series = pd.Series(extracted_values)\n",
    "value_series.head(10)"
   ]
  },
  {
   "cell_type": "markdown",
   "metadata": {},
   "source": [
    "similar to get_ages(), we only want the time value starting at index 1 and every other 1 value. In the actual dataset, the first time value is \"gun time\", and the second data is \"net time\", we only interested in \"net time\""
   ]
  },
  {
   "cell_type": "code",
   "execution_count": 6,
   "metadata": {},
   "outputs": [
    {
     "data": {
      "text/plain": [
       "0    16:11.957\n",
       "1    16:40.120\n",
       "2    17:40.873\n",
       "3    17:58.730\n",
       "4    18:17.673\n",
       "dtype: object"
      ]
     },
     "execution_count": 6,
     "metadata": {},
     "output_type": "execute_result"
    }
   ],
   "source": [
    "correct_data = value_series.iloc[0::2]\n",
    "correct_data.reset_index(drop=True, inplace=True)\n",
    "correct_data.head()"
   ]
  },
  {
   "cell_type": "markdown",
   "metadata": {},
   "source": [
    "### Develop get_gender(response)"
   ]
  },
  {
   "cell_type": "code",
   "execution_count": 22,
   "metadata": {},
   "outputs": [
    {
     "data": {
      "text/plain": [
       "0                  Mike Cordano\n",
       "1                     70-79 Yrs\n",
       "2                          Male\n",
       "3    Hortensia Cisneros Benftez\n",
       "4                     30-39 Yrs\n",
       "5                        Female\n",
       "dtype: object"
      ]
     },
     "execution_count": 22,
     "metadata": {},
     "output_type": "execute_result"
    }
   ],
   "source": [
    "soup = BeautifulSoup(response.content, \"html.parser\")\n",
    "values = soup.find_all('a', class_ = 'ltw-name')\n",
    "extracted_values = [value.get_text() for value in values]\n",
    "value_series = pd.Series(extracted_values)\n",
    "value_series.head(6)"
   ]
  },
  {
   "cell_type": "markdown",
   "metadata": {},
   "source": [
    "same, need to extract gender"
   ]
  },
  {
   "cell_type": "code",
   "execution_count": 23,
   "metadata": {},
   "outputs": [
    {
     "data": {
      "text/plain": [
       "0      Male\n",
       "1    Female\n",
       "2      Male\n",
       "3      Male\n",
       "4      Male\n",
       "dtype: object"
      ]
     },
     "execution_count": 23,
     "metadata": {},
     "output_type": "execute_result"
    }
   ],
   "source": [
    "correct_data = value_series.iloc[2::3]\n",
    "correct_data.reset_index(drop=True, inplace=True)\n",
    "correct_data.head()"
   ]
  },
  {
   "cell_type": "markdown",
   "metadata": {},
   "source": [
    "### Develop get_overall_pos(response)"
   ]
  },
  {
   "cell_type": "code",
   "execution_count": 37,
   "metadata": {},
   "outputs": [
    {
     "name": "stderr",
     "output_type": "stream",
     "text": [
      "/var/folders/32/3mmqs6sj1kb06qpdnfgb3cch0000gn/T/ipykernel_8122/2328599500.py:2: DeprecationWarning: The 'text' argument to find()-type methods is deprecated. Use 'string' instead.\n",
      "  numeric_td_tags = soup.find_all('td', text=re.compile(r'\\b\\d+\\b'))\n"
     ]
    },
    {
     "data": {
      "text/plain": [
       "0    51\n",
       "1    52\n",
       "2    53\n",
       "3    54\n",
       "4    55\n",
       "dtype: object"
      ]
     },
     "execution_count": 37,
     "metadata": {},
     "output_type": "execute_result"
    }
   ],
   "source": [
    "soup = BeautifulSoup(response.content, \"html.parser\")\n",
    "numeric_td_tags = soup.find_all('td', text=re.compile(r'\\b\\d+\\b'))\n",
    "extracted_values = [value.get_text() for value in numeric_td_tags]\n",
    "value_series = pd.Series(extracted_values)\n",
    "value_series.head(30)\n",
    "correct_data = value_series.iloc[5::8]\n",
    "correct_data.reset_index(drop=True, inplace=True)\n",
    "correct_data.head()"
   ]
  },
  {
   "cell_type": "markdown",
   "metadata": {},
   "source": [
    "### Develop get_last_name(response)"
   ]
  },
  {
   "cell_type": "code",
   "execution_count": 50,
   "metadata": {},
   "outputs": [
    {
     "data": {
      "text/plain": [
       "0      Mcsorley\n",
       "1       Michael\n",
       "2    California\n",
       "3    Sacramento\n",
       "4          Male\n",
       "dtype: object"
      ]
     },
     "execution_count": 50,
     "metadata": {},
     "output_type": "execute_result"
    }
   ],
   "source": [
    "soup = BeautifulSoup(response.content, \"html.parser\")\n",
    "values = soup.find_all('td', class_ = 'ltw-cell-left d-none d-sm-table-cell')\n",
    "extracted_names = [name.get_text() for name in values]\n",
    "value_series = pd.Series(extracted_names)\n",
    "value_series.head(20)\n",
    "correct_data = value_series.iloc[1::5]\n",
    "correct_data.reset_index(drop=True, inplace=True)\n",
    "correct_data.head()"
   ]
  }
 ],
 "metadata": {
  "kernelspec": {
   "display_name": "Python 3",
   "language": "python",
   "name": "python3"
  },
  "language_info": {
   "codemirror_mode": {
    "name": "ipython",
    "version": 3
   },
   "file_extension": ".py",
   "mimetype": "text/x-python",
   "name": "python",
   "nbconvert_exporter": "python",
   "pygments_lexer": "ipython3",
   "version": "3.9.6"
  }
 },
 "nbformat": 4,
 "nbformat_minor": 2
}
