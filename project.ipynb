{
 "cells": [
  {
   "cell_type": "markdown",
   "metadata": {},
   "source": [
    "# Target:\n",
    "- we want to find the most \"value for money\" gaming laptop by sraping the data by searching \"gaming laptop\" on the website \"newegg\"\n",
    "- analysis from different aspects\n",
    "  - graphic card\n",
    "  - display resolution\n",
    "  - price\n",
    "  - item's review rating\n",
    "  - brand\n",
    "- Particular questions we are interested in\n",
    "  - question 1\n",
    "  - question 2\n",
    "  - question 3\n",
    "  \n"
   ]
  },
  {
   "cell_type": "markdown",
   "metadata": {},
   "source": [
    "## Data Scraping\n",
    "we need two type of functions to aquire the data\n",
    "  - `get_links(url)` function that collects all the links to all the items in 100 pages from the searching results\n",
    "  - `get_info(html_file)` a series of functions that collect information from different aspects that we are interested in about the item. This includes but not limits to:\n",
    "    - get_product_name()\n",
    "    - get_graphicCard()\n",
    "    - get_resolution()\n",
    "    - get_price()\n",
    "    - get_review()\n",
    "    - get_brand\n",
    "\n",
    "### Specific Layout:\n",
    "- Create list type or panda series type variables that store different information about the product(e.g, product name, graphic card, price ...), also a list of links.\n",
    "- Get links to all items by using the function `get_links(url)` given a url to the searching result of \"gaming laptop\". \n",
    "  - This function will return a list of links that we are interested in.\n",
    "- For each link in the list:\n",
    "  - Get the corresponding html file\n",
    "  - Get information by using functions `get_info(html_file)` given a html file\n",
    "    - Each of these functions will return a element that is \"compatible\" to it's list\n",
    "      - (e.g, `get_price()` will return the price of the item; `get_graphicCard()` will return the graphic card of the item)\n",
    "    - After returning, append the returned value to the cooresponding list.\n",
    "- Combine all the lists (or panda series) to panda dataframe\n",
    "  \n"
   ]
  },
  {
   "cell_type": "markdown",
   "metadata": {},
   "source": [
    "## Data Processing\n",
    "- TBD\n"
   ]
  },
  {
   "cell_type": "markdown",
   "metadata": {},
   "source": [
    "\n",
    "## Data Analysis\n",
    "- TBD"
   ]
  },
  {
   "cell_type": "markdown",
   "metadata": {},
   "source": [
    "Import libraries"
   ]
  },
  {
   "cell_type": "code",
   "execution_count": 2,
   "metadata": {},
   "outputs": [],
   "source": []
  },
  {
   "cell_type": "markdown",
   "metadata": {},
   "source": [
    "get the links"
   ]
  },
  {
   "cell_type": "code",
   "execution_count": 16,
   "metadata": {},
   "outputs": [
    {
     "ename": "InvalidHeader",
     "evalue": "Invalid leading whitespace, reserved character(s), or returncharacter(s) in header name: ':authority:'",
     "output_type": "error",
     "traceback": [
      "\u001b[0;31m---------------------------------------------------------------------------\u001b[0m",
      "\u001b[0;31mInvalidHeader\u001b[0m                             Traceback (most recent call last)",
      "\u001b[1;32m/Users/baohu/Desktop/CS/STA141B_fall2023/Final_Project/project.ipynb Cell 8\u001b[0m line \u001b[0;36m2\n\u001b[1;32m      <a href='vscode-notebook-cell:/Users/baohu/Desktop/CS/STA141B_fall2023/Final_Project/project.ipynb#X13sZmlsZQ%3D%3D?line=0'>1</a>\u001b[0m headers \u001b[39m=\u001b[39m {\n\u001b[1;32m      <a href='vscode-notebook-cell:/Users/baohu/Desktop/CS/STA141B_fall2023/Final_Project/project.ipynb#X13sZmlsZQ%3D%3D?line=1'>2</a>\u001b[0m     \u001b[39m'\u001b[39m\u001b[39m:authority:\u001b[39m\u001b[39m'\u001b[39m:\u001b[39m'\u001b[39m\u001b[39mwww.newegg.com\u001b[39m\u001b[39m'\u001b[39m,\n\u001b[1;32m      <a href='vscode-notebook-cell:/Users/baohu/Desktop/CS/STA141B_fall2023/Final_Project/project.ipynb#X13sZmlsZQ%3D%3D?line=2'>3</a>\u001b[0m     \u001b[39m'\u001b[39m\u001b[39m:method:\u001b[39m\u001b[39m'\u001b[39m:\u001b[39m'\u001b[39m\u001b[39mGET\u001b[39m\u001b[39m'\u001b[39m,\n\u001b[0;32m   (...)\u001b[0m\n\u001b[1;32m     <a href='vscode-notebook-cell:/Users/baohu/Desktop/CS/STA141B_fall2023/Final_Project/project.ipynb#X13sZmlsZQ%3D%3D?line=18'>19</a>\u001b[0m     \u001b[39m'\u001b[39m\u001b[39mUser-Agent\u001b[39m\u001b[39m'\u001b[39m: \u001b[39m'\u001b[39m\u001b[39mMozilla/5.0 (Macintosh; Intel Mac OS X 10_15_7) AppleWebKit/537.36 (KHTML, like Gecko) Chrome/119.0.0.0 Safari/537.36\u001b[39m\u001b[39m'\u001b[39m\n\u001b[1;32m     <a href='vscode-notebook-cell:/Users/baohu/Desktop/CS/STA141B_fall2023/Final_Project/project.ipynb#X13sZmlsZQ%3D%3D?line=19'>20</a>\u001b[0m }\n\u001b[0;32m---> <a href='vscode-notebook-cell:/Users/baohu/Desktop/CS/STA141B_fall2023/Final_Project/project.ipynb#X13sZmlsZQ%3D%3D?line=21'>22</a>\u001b[0m response \u001b[39m=\u001b[39m requests\u001b[39m.\u001b[39;49mget(\u001b[39m'\u001b[39;49m\u001b[39mhttps://www.newegg.com/p/pl?d=gaming+laptop\u001b[39;49m\u001b[39m'\u001b[39;49m, headers\u001b[39m=\u001b[39;49mheaders)\n\u001b[1;32m     <a href='vscode-notebook-cell:/Users/baohu/Desktop/CS/STA141B_fall2023/Final_Project/project.ipynb#X13sZmlsZQ%3D%3D?line=22'>23</a>\u001b[0m response\u001b[39m.\u001b[39mraise_for_status()\n",
      "File \u001b[0;32m~/Library/Python/3.9/lib/python/site-packages/requests/api.py:73\u001b[0m, in \u001b[0;36mget\u001b[0;34m(url, params, **kwargs)\u001b[0m\n\u001b[1;32m     62\u001b[0m \u001b[39mdef\u001b[39;00m \u001b[39mget\u001b[39m(url, params\u001b[39m=\u001b[39m\u001b[39mNone\u001b[39;00m, \u001b[39m*\u001b[39m\u001b[39m*\u001b[39mkwargs):\n\u001b[1;32m     63\u001b[0m \u001b[39m    \u001b[39m\u001b[39mr\u001b[39m\u001b[39m\"\"\"Sends a GET request.\u001b[39;00m\n\u001b[1;32m     64\u001b[0m \n\u001b[1;32m     65\u001b[0m \u001b[39m    :param url: URL for the new :class:`Request` object.\u001b[39;00m\n\u001b[0;32m   (...)\u001b[0m\n\u001b[1;32m     70\u001b[0m \u001b[39m    :rtype: requests.Response\u001b[39;00m\n\u001b[1;32m     71\u001b[0m \u001b[39m    \"\"\"\u001b[39;00m\n\u001b[0;32m---> 73\u001b[0m     \u001b[39mreturn\u001b[39;00m request(\u001b[39m\"\u001b[39;49m\u001b[39mget\u001b[39;49m\u001b[39m\"\u001b[39;49m, url, params\u001b[39m=\u001b[39;49mparams, \u001b[39m*\u001b[39;49m\u001b[39m*\u001b[39;49mkwargs)\n",
      "File \u001b[0;32m~/Library/Python/3.9/lib/python/site-packages/requests/api.py:59\u001b[0m, in \u001b[0;36mrequest\u001b[0;34m(method, url, **kwargs)\u001b[0m\n\u001b[1;32m     55\u001b[0m \u001b[39m# By using the 'with' statement we are sure the session is closed, thus we\u001b[39;00m\n\u001b[1;32m     56\u001b[0m \u001b[39m# avoid leaving sockets open which can trigger a ResourceWarning in some\u001b[39;00m\n\u001b[1;32m     57\u001b[0m \u001b[39m# cases, and look like a memory leak in others.\u001b[39;00m\n\u001b[1;32m     58\u001b[0m \u001b[39mwith\u001b[39;00m sessions\u001b[39m.\u001b[39mSession() \u001b[39mas\u001b[39;00m session:\n\u001b[0;32m---> 59\u001b[0m     \u001b[39mreturn\u001b[39;00m session\u001b[39m.\u001b[39;49mrequest(method\u001b[39m=\u001b[39;49mmethod, url\u001b[39m=\u001b[39;49murl, \u001b[39m*\u001b[39;49m\u001b[39m*\u001b[39;49mkwargs)\n",
      "File \u001b[0;32m~/Library/Python/3.9/lib/python/site-packages/requests/sessions.py:575\u001b[0m, in \u001b[0;36mSession.request\u001b[0;34m(self, method, url, params, data, headers, cookies, files, auth, timeout, allow_redirects, proxies, hooks, stream, verify, cert, json)\u001b[0m\n\u001b[1;32m    562\u001b[0m \u001b[39m# Create the Request.\u001b[39;00m\n\u001b[1;32m    563\u001b[0m req \u001b[39m=\u001b[39m Request(\n\u001b[1;32m    564\u001b[0m     method\u001b[39m=\u001b[39mmethod\u001b[39m.\u001b[39mupper(),\n\u001b[1;32m    565\u001b[0m     url\u001b[39m=\u001b[39murl,\n\u001b[0;32m   (...)\u001b[0m\n\u001b[1;32m    573\u001b[0m     hooks\u001b[39m=\u001b[39mhooks,\n\u001b[1;32m    574\u001b[0m )\n\u001b[0;32m--> 575\u001b[0m prep \u001b[39m=\u001b[39m \u001b[39mself\u001b[39;49m\u001b[39m.\u001b[39;49mprepare_request(req)\n\u001b[1;32m    577\u001b[0m proxies \u001b[39m=\u001b[39m proxies \u001b[39mor\u001b[39;00m {}\n\u001b[1;32m    579\u001b[0m settings \u001b[39m=\u001b[39m \u001b[39mself\u001b[39m\u001b[39m.\u001b[39mmerge_environment_settings(\n\u001b[1;32m    580\u001b[0m     prep\u001b[39m.\u001b[39murl, proxies, stream, verify, cert\n\u001b[1;32m    581\u001b[0m )\n",
      "File \u001b[0;32m~/Library/Python/3.9/lib/python/site-packages/requests/sessions.py:486\u001b[0m, in \u001b[0;36mSession.prepare_request\u001b[0;34m(self, request)\u001b[0m\n\u001b[1;32m    483\u001b[0m     auth \u001b[39m=\u001b[39m get_netrc_auth(request\u001b[39m.\u001b[39murl)\n\u001b[1;32m    485\u001b[0m p \u001b[39m=\u001b[39m PreparedRequest()\n\u001b[0;32m--> 486\u001b[0m p\u001b[39m.\u001b[39;49mprepare(\n\u001b[1;32m    487\u001b[0m     method\u001b[39m=\u001b[39;49mrequest\u001b[39m.\u001b[39;49mmethod\u001b[39m.\u001b[39;49mupper(),\n\u001b[1;32m    488\u001b[0m     url\u001b[39m=\u001b[39;49mrequest\u001b[39m.\u001b[39;49murl,\n\u001b[1;32m    489\u001b[0m     files\u001b[39m=\u001b[39;49mrequest\u001b[39m.\u001b[39;49mfiles,\n\u001b[1;32m    490\u001b[0m     data\u001b[39m=\u001b[39;49mrequest\u001b[39m.\u001b[39;49mdata,\n\u001b[1;32m    491\u001b[0m     json\u001b[39m=\u001b[39;49mrequest\u001b[39m.\u001b[39;49mjson,\n\u001b[1;32m    492\u001b[0m     headers\u001b[39m=\u001b[39;49mmerge_setting(\n\u001b[1;32m    493\u001b[0m         request\u001b[39m.\u001b[39;49mheaders, \u001b[39mself\u001b[39;49m\u001b[39m.\u001b[39;49mheaders, dict_class\u001b[39m=\u001b[39;49mCaseInsensitiveDict\n\u001b[1;32m    494\u001b[0m     ),\n\u001b[1;32m    495\u001b[0m     params\u001b[39m=\u001b[39;49mmerge_setting(request\u001b[39m.\u001b[39;49mparams, \u001b[39mself\u001b[39;49m\u001b[39m.\u001b[39;49mparams),\n\u001b[1;32m    496\u001b[0m     auth\u001b[39m=\u001b[39;49mmerge_setting(auth, \u001b[39mself\u001b[39;49m\u001b[39m.\u001b[39;49mauth),\n\u001b[1;32m    497\u001b[0m     cookies\u001b[39m=\u001b[39;49mmerged_cookies,\n\u001b[1;32m    498\u001b[0m     hooks\u001b[39m=\u001b[39;49mmerge_hooks(request\u001b[39m.\u001b[39;49mhooks, \u001b[39mself\u001b[39;49m\u001b[39m.\u001b[39;49mhooks),\n\u001b[1;32m    499\u001b[0m )\n\u001b[1;32m    500\u001b[0m \u001b[39mreturn\u001b[39;00m p\n",
      "File \u001b[0;32m~/Library/Python/3.9/lib/python/site-packages/requests/models.py:369\u001b[0m, in \u001b[0;36mPreparedRequest.prepare\u001b[0;34m(self, method, url, headers, files, data, params, auth, cookies, hooks, json)\u001b[0m\n\u001b[1;32m    367\u001b[0m \u001b[39mself\u001b[39m\u001b[39m.\u001b[39mprepare_method(method)\n\u001b[1;32m    368\u001b[0m \u001b[39mself\u001b[39m\u001b[39m.\u001b[39mprepare_url(url, params)\n\u001b[0;32m--> 369\u001b[0m \u001b[39mself\u001b[39;49m\u001b[39m.\u001b[39;49mprepare_headers(headers)\n\u001b[1;32m    370\u001b[0m \u001b[39mself\u001b[39m\u001b[39m.\u001b[39mprepare_cookies(cookies)\n\u001b[1;32m    371\u001b[0m \u001b[39mself\u001b[39m\u001b[39m.\u001b[39mprepare_body(data, files, json)\n",
      "File \u001b[0;32m~/Library/Python/3.9/lib/python/site-packages/requests/models.py:491\u001b[0m, in \u001b[0;36mPreparedRequest.prepare_headers\u001b[0;34m(self, headers)\u001b[0m\n\u001b[1;32m    488\u001b[0m \u001b[39mif\u001b[39;00m headers:\n\u001b[1;32m    489\u001b[0m     \u001b[39mfor\u001b[39;00m header \u001b[39min\u001b[39;00m headers\u001b[39m.\u001b[39mitems():\n\u001b[1;32m    490\u001b[0m         \u001b[39m# Raise exception on invalid header value.\u001b[39;00m\n\u001b[0;32m--> 491\u001b[0m         check_header_validity(header)\n\u001b[1;32m    492\u001b[0m         name, value \u001b[39m=\u001b[39m header\n\u001b[1;32m    493\u001b[0m         \u001b[39mself\u001b[39m\u001b[39m.\u001b[39mheaders[to_native_string(name)] \u001b[39m=\u001b[39m value\n",
      "File \u001b[0;32m~/Library/Python/3.9/lib/python/site-packages/requests/utils.py:1039\u001b[0m, in \u001b[0;36mcheck_header_validity\u001b[0;34m(header)\u001b[0m\n\u001b[1;32m   1033\u001b[0m \u001b[39m\u001b[39m\u001b[39m\"\"\"Verifies that header parts don't contain leading whitespace\u001b[39;00m\n\u001b[1;32m   1034\u001b[0m \u001b[39mreserved characters, or return characters.\u001b[39;00m\n\u001b[1;32m   1035\u001b[0m \n\u001b[1;32m   1036\u001b[0m \u001b[39m:param header: tuple, in the format (name, value).\u001b[39;00m\n\u001b[1;32m   1037\u001b[0m \u001b[39m\"\"\"\u001b[39;00m\n\u001b[1;32m   1038\u001b[0m name, value \u001b[39m=\u001b[39m header\n\u001b[0;32m-> 1039\u001b[0m _validate_header_part(header, name, \u001b[39m0\u001b[39;49m)\n\u001b[1;32m   1040\u001b[0m _validate_header_part(header, value, \u001b[39m1\u001b[39m)\n",
      "File \u001b[0;32m~/Library/Python/3.9/lib/python/site-packages/requests/utils.py:1056\u001b[0m, in \u001b[0;36m_validate_header_part\u001b[0;34m(header, header_part, header_validator_index)\u001b[0m\n\u001b[1;32m   1054\u001b[0m \u001b[39mif\u001b[39;00m \u001b[39mnot\u001b[39;00m validator\u001b[39m.\u001b[39mmatch(header_part):\n\u001b[1;32m   1055\u001b[0m     header_kind \u001b[39m=\u001b[39m \u001b[39m\"\u001b[39m\u001b[39mname\u001b[39m\u001b[39m\"\u001b[39m \u001b[39mif\u001b[39;00m header_validator_index \u001b[39m==\u001b[39m \u001b[39m0\u001b[39m \u001b[39melse\u001b[39;00m \u001b[39m\"\u001b[39m\u001b[39mvalue\u001b[39m\u001b[39m\"\u001b[39m\n\u001b[0;32m-> 1056\u001b[0m     \u001b[39mraise\u001b[39;00m InvalidHeader(\n\u001b[1;32m   1057\u001b[0m         \u001b[39mf\u001b[39m\u001b[39m\"\u001b[39m\u001b[39mInvalid leading whitespace, reserved character(s), or return\u001b[39m\u001b[39m\"\u001b[39m\n\u001b[1;32m   1058\u001b[0m         \u001b[39mf\u001b[39m\u001b[39m\"\u001b[39m\u001b[39mcharacter(s) in header \u001b[39m\u001b[39m{\u001b[39;00mheader_kind\u001b[39m}\u001b[39;00m\u001b[39m: \u001b[39m\u001b[39m{\u001b[39;00mheader_part\u001b[39m!r}\u001b[39;00m\u001b[39m\"\u001b[39m\n\u001b[1;32m   1059\u001b[0m     )\n",
      "\u001b[0;31mInvalidHeader\u001b[0m: Invalid leading whitespace, reserved character(s), or returncharacter(s) in header name: ':authority:'"
     ]
    }
   ],
   "source": [
    "headers = {\n",
    "    ':authority:':'www.newegg.com',\n",
    "    ':method:':'GET',\n",
    "    ':path:':'/p/pl?d=gaming+laptop',\n",
    "    ':scheme:':'https',\n",
    "    'Accept:':'text/html,application/xhtml+xml,application/xml;q=0.9,image/avif,image/webp,image/apng,*/*;q=0.8,application/signed-exchange;v=b3;q=0.7',\n",
    "    'Accept-Encoding:':'gzip, deflate, br',\n",
    "    'Accept-Language:':'en-US,en;q=0.9,zh;q=0.8',\n",
    "    'Cache-Control:':'max-age=0',\n",
    "    'Cookie:':'__qca=I0-1522937774-1701924339526; _gcl_au=1.1.1120441867.1700804446; _tt_enable_cookie=1; _ttp=kooQqeIbz117nqlBaA-T22ygwrp; __attentive_id=c56a59f19c6e4f3ab044012dc48b2ad9; _attn_=eyJ1Ijoie1wiY29cIjoxNzAwODA0NDQ3MTU1LFwidW9cIjoxNzAwODA0NDQ3MTU1LFwibWFcIjoyMTkwMCxcImluXCI6ZmFsc2UsXCJ2YWxcIjpcImM1NmE1OWYxOWM2ZTRmM2FiMDQ0MDEyZGM0OGIyYWQ5XCJ9In0=; __attentive_cco=1700804447156; _gcl_aw=GCL.1701741841.CjwKCAiAjfyqBhAsEiwA-UdzJKHKjwwjVCMN8pXiwhWGSdzUneC0oFz75Ug1-QYg2tKEL07fMPDVGhoCf7kQAvD_BwE; _gcl_dc=GCL.1701741841.CjwKCAiAjfyqBhAsEiwA-UdzJKHKjwwjVCMN8pXiwhWGSdzUneC0oFz75Ug1-QYg2tKEL07fMPDVGhoCf7kQAvD_BwE; NV%5FW57=USA; NV%5FW62=en; osano_consentmanager_uuid=2d5f3d61-e902-4b7f-b977-0d11637fb66a; osano_consentmanager=HBjAMC-_kOfa22ZAZI6MwQ6JvtGN4nPRqjAKz9Aw56QBiYuOrZLUkiv0loKcvrsFJl6mAy8qf_EkVxmYMx0eQWPO0Ch1NdHcck7mOEj61mAg3oLJAjzz4G_W43n6iVqgiDwhjFrxzCOl7WJiM0Ek3T7QtUIKBnW2F-OJmdqMarMyzd5hCY9_KT7WNHUhw7rfFx0UO3ckpYpWRD0_hxY_8NXXkDOMlGovia10mxEPjJGW6azR1GU_MyxBkE_30MchI3V5MJ9TUwxtp66liK_ClBNFHJtOTPvSsiGftA==; __gsas=ID=0ca3b551aa1b840b:T=1701741855:RT=1701741855:S=ALNI_Mah0OddR9PKoCEspU2DCHOpsi-vQw; xyz_cr_100393_et_137==NaN&cr=100393&wegc=&et=137&ap=; tracker_device=c06affd3-5b61-438e-ba7c-cc43341c9044; NV_ECM_TK_LC=%7B%22icid%22%3A%7B%7D%2C%22cm_sp%22%3A%7B%22value%22%3A%22SP-_-1866851-_-0-_-2-_-9SIADFMJRE2205-_-laptop-_-laptop-_-2%22%2C%22expiretime%22%3A1704335078664%7D%2C%22cm_mmc%22%3A%7B%7D%7D; RT=\"z=1&dm=newegg.com&si=j7xoz72k1t&ss=lprr65hv&sl=0&tt=0\"; NE_STC_V1=7c02a3dcf862c0d017cc405b50e337e9c9dbe4f470ebb4070afacb98954991a9e78fa371; __attentive_dv=1; _gid=GA1.2.1345409284.1701923951; ak_bmsc=8F3C6D676A52695FD53B32ED87BF02FA~000000000000000000000000000000~YAAQVUV7aN91AeKLAQAA3ZGSQhZZqZBQ540ocOVId7ffZPdi8XACpoYZWCPV67uYg6mlgl+C7JtK9PMgNATlfSznYhCMKjpB/U6YPzV8BOOPPwX2Py2os3gcm2/5LeT9RSWnAb42uCqAwyLhvECrlQexYKXuJHSY9Om2/YxxFyJVli19Ll3c1tQmNs5H4j4Hq7es8v+U5yv5FgM8Kv+m3l3x5fPhDg2hORG33t+d9N7qvCL5nE8xEG1urtfFlUKjSB4sx/AiHcllQ2lEL+r4RSECDHFc6klsOR8NfJgoX7B5ousVfzydYOf848d8KFeyxjTvfLyH1tX5gA+7d9pH2aeHXwmxJTtk6CQPd2/zZhWsJHOOKlf/wSoa1qhwD6voqbUhP94/9B4=; cmp_choice=none; cf_clearance=SRfcFYgcm38Mefux_HNP6YdED93q93RuG4LYP2A0Gk8-1701923958-0-1-dc0ced6d.800dbbb8.8b0db28d-0.2.1701923958; __cf_bm=wEqFu.xNu7p4hLNeGiH6Ma5ReGELa4M63ATZ6QWzz9E-1701924901-0-ASpHhuy/sEPEzl+7IzXuRX2OaonMm9XY88DUbEcA7XK5bnAUdwNNHo8xEk34TPh3clvairoPO3L3BSO9ChvPyBQ=; __attentive_pv=4; NV%5FCONFIGURATION=#5%7B%22Sites%22%3A%7B%22USA%22%3A%7B%22Values%22%3A%7B%22w58%22%3A%22USD%22%7D%2C%22Exp%22%3A%222565924918%22%7D%7D%7D; NV%5FGAPREVIOUSPAGENAME=product%20details; _ga_TR46GG8HLR=GS1.1.1701923949.7.1.1701924919.0.0.0; _ga=GA1.2.581651889.1700804447; _uetsid=915d9d6094ba11ee9162d1d9a0dab243; _uetvid=5e2f1cd06c5a11ed98ceff2a83c54410; bm_sv=C031DD1C6D9774D95DC9D724EB48E3BD~YAAQVUV7aKKXAuKLAQAALlyhQhavfUSa4AyqTC3CjLEHDLoPqx5cZpD9PWmzy1k2j/E+cS8+H9U+nGTujtWl1yq2Mf3fiuvKPK67qjOXX+zvSBXAPyZqRD0DSKo/m7g5VxTSaSVpd0XkdzYdyKF1bOTcpWHWogE5qJHtShz4HUQZzA+DFnV9pEJX1oFMSRY99CIpfQHa0sKYu+roLriB8jYtVQu0ATVDKd0E3dVQJpIobkcXt9YgJl0Ka+dLviFp~1; syf-widget-token=d09e2b8d-605a-44c9-9e99-4cb5134140ca; __gads=ID=74fbe704b5382b2d:T=1701741872:RT=1701924920:S=ALNI_MbsuLxuFLwW6O6jbgxiTUnMU54qVQ; __gpi=UID=00000ca50966e85f:T=1701741872:RT=1701924920:S=ALNI_MbJgJzK-phsHO1w2mKHAm2aoYufdg; NVTC=248326808.0001.a3bfacb8a.1700804444.1701923947.1701925751.10; NID=9D344M5z8O8O728O6I; NV_NVTCTIMESTAMP=1701925751',\n",
    "    'Sec-Ch-Ua:':'\"Google Chrome\";v=\"119\", \"Chromium\";v=\"119\", \"Not?A_Brand\";v=\"24\"',\n",
    "    'Sec-Ch-Ua-Mobile:':'?0',\n",
    "    'Sec-Ch-Ua-Platform:':'\"macOS\"',\n",
    "    'Sec-Fetch-Dest:':'document',\n",
    "    'Sec-Fetch-Mode:':'navigate',\n",
    "    'Sec-Fetch-Site:':'none',\n",
    "    'Sec-Fetch-User:':'?1',\n",
    "    'Upgrade-Insecure-Requests:':'1',\n",
    "    'User-Agent': 'Mozilla/5.0 (Macintosh; Intel Mac OS X 10_15_7) AppleWebKit/537.36 (KHTML, like Gecko) Chrome/119.0.0.0 Safari/537.36'\n",
    "}\n",
    "\n",
    "response = requests.get('https://www.newegg.com/p/pl?d=gaming+laptop', headers=headers)\n",
    "response.raise_for_status()"
   ]
  },
  {
   "cell_type": "code",
   "execution_count": 25,
   "metadata": {},
   "outputs": [],
   "source": []
  },
  {
   "cell_type": "code",
   "execution_count": 26,
   "metadata": {},
   "outputs": [],
   "source": []
  },
  {
   "cell_type": "code",
   "execution_count": 29,
   "metadata": {},
   "outputs": [],
   "source": []
  },
  {
   "cell_type": "code",
   "execution_count": 30,
   "metadata": {},
   "outputs": [
    {
     "data": {
      "text/plain": [
       "[<a class=\"ltw-name\" href=\"myresults.aspx?uid=16356-6121-1-382208\" target=\"_blank\">William Liu</a>,\n",
       " <a class=\"ltw-name\" href=\"myresults.aspx?uid=16356-6121-1-382191\" target=\"_blank\">Chris Badolato</a>,\n",
       " <a class=\"ltw-name\" href=\"myresults.aspx?uid=16356-6121-1-382198\" target=\"_blank\">Matthew Mayo</a>,\n",
       " <a class=\"ltw-name\" href=\"myresults.aspx?uid=16356-6121-1-382124\" target=\"_blank\">Liam Lopez</a>,\n",
       " <a class=\"ltw-name\" href=\"myresults.aspx?uid=16356-6121-1-382237\" target=\"_blank\">Ethan Mccracken</a>,\n",
       " <a class=\"ltw-name\" href=\"myresults.aspx?uid=16356-6121-1-382140\" target=\"_blank\">Jose Zaragoza</a>,\n",
       " <a class=\"ltw-name\" href=\"myresults.aspx?uid=16356-6121-1-382299\" target=\"_blank\">Payton Hanks</a>,\n",
       " <a class=\"ltw-name\" href=\"myresults.aspx?uid=16356-6121-1-382050\" target=\"_blank\">Nicholas Troppy</a>,\n",
       " <a class=\"ltw-name\" href=\"myresults.aspx?uid=16356-6121-1-382063\" target=\"_blank\">Norberto Razo</a>,\n",
       " <a class=\"ltw-name\" href=\"myresults.aspx?uid=16356-6121-1-381960\" target=\"_blank\">Gabriel Aguilar</a>,\n",
       " <a class=\"ltw-name\" href=\"myresults.aspx?uid=16356-6121-1-382263\" target=\"_blank\">Trevor J Mills</a>,\n",
       " <a class=\"ltw-name\" href=\"myresults.aspx?uid=16356-6121-1-382084\" target=\"_blank\">Jeremy Alberg</a>,\n",
       " <a class=\"ltw-name\" href=\"myresults.aspx?uid=16356-6121-1-382259\" target=\"_blank\">Anouk Brose</a>,\n",
       " <a class=\"ltw-name\" href=\"myresults.aspx?uid=16356-6121-1-382098\" target=\"_blank\">Carmen Baxter</a>,\n",
       " <a class=\"ltw-name\" href=\"myresults.aspx?uid=16356-6121-1-381959\" target=\"_blank\">Ethan Tang</a>,\n",
       " <a class=\"ltw-name\" href=\"myresults.aspx?uid=16356-6121-1-382026\" target=\"_blank\">Caleb Chak</a>,\n",
       " <a class=\"ltw-name\" href=\"myresults.aspx?uid=16356-6121-1-382199\" target=\"_blank\">Kristen Mayo</a>,\n",
       " <a class=\"ltw-name\" href=\"myresults.aspx?uid=16356-6121-1-382317\" target=\"_blank\">Liam Anderson</a>,\n",
       " <a class=\"ltw-name\" href=\"myresults.aspx?uid=16356-6121-1-382150\" target=\"_blank\">Michael Sweeney</a>,\n",
       " <a class=\"ltw-name\" href=\"myresults.aspx?uid=16356-6121-1-381993\" target=\"_blank\">Jafet Sanchez</a>,\n",
       " <a class=\"ltw-name\" href=\"myresults.aspx?uid=16356-6121-1-382288\" target=\"_blank\">Ned Mckinley</a>,\n",
       " <a class=\"ltw-name\" href=\"myresults.aspx?uid=16356-6121-1-382147\" target=\"_blank\">Nathan Vigil</a>,\n",
       " <a class=\"ltw-name\" href=\"myresults.aspx?uid=16356-6121-1-382287\" target=\"_blank\">Jaciel Reveles</a>,\n",
       " <a class=\"ltw-name\" href=\"myresults.aspx?uid=16356-6121-1-382300\" target=\"_blank\">Henry Candelo</a>,\n",
       " <a class=\"ltw-name\" href=\"myresults.aspx?uid=16356-6121-1-382217\" target=\"_blank\">James Durdan</a>,\n",
       " <a class=\"ltw-name\" href=\"myresults.aspx?uid=16356-6121-1-382041\" target=\"_blank\">Barth Ballard</a>,\n",
       " <a class=\"ltw-name\" href=\"myresults.aspx?uid=16356-6121-1-382209\" target=\"_blank\">Amanda Ioannides</a>,\n",
       " <a class=\"ltw-name\" href=\"myresults.aspx?uid=16356-6121-1-381992\" target=\"_blank\">Greg Mandler</a>,\n",
       " <a class=\"ltw-name\" href=\"myresults.aspx?uid=16356-6121-1-382037\" target=\"_blank\">Taek Keun Lyu</a>,\n",
       " <a class=\"ltw-name\" href=\"myresults.aspx?uid=16356-6121-1-382095\" target=\"_blank\">Kristina Reiswig</a>,\n",
       " <a class=\"ltw-name\" href=\"myresults.aspx?uid=16356-6121-1-382213\" target=\"_blank\">Terry Anderson</a>,\n",
       " <a class=\"ltw-name\" href=\"myresults.aspx?uid=16356-6121-1-382301\" target=\"_blank\">Adan Cervantes</a>,\n",
       " <a class=\"ltw-name\" href=\"myresults.aspx?uid=16356-6121-1-382645\" target=\"_blank\">Alyssa Bivins</a>,\n",
       " <a class=\"ltw-name\" href=\"myresults.aspx?uid=16356-6121-1-382267\" target=\"_blank\">Mason Thomsen</a>,\n",
       " <a class=\"ltw-name\" href=\"myresults.aspx?uid=16356-6121-1-382160\" target=\"_blank\">John Nutter</a>,\n",
       " <a class=\"ltw-name\" href=\"myresults.aspx?uid=16356-6121-1-382646\" target=\"_blank\">Matthew Koestner</a>,\n",
       " <a class=\"ltw-name\" href=\"myresults.aspx?uid=16356-6121-1-382187\" target=\"_blank\">Omar Marroquin</a>,\n",
       " <a class=\"ltw-name\" href=\"myresults.aspx?uid=16356-6121-1-382141\" target=\"_blank\">Audrey Zaragoza</a>,\n",
       " <a class=\"ltw-name\" href=\"myresults.aspx?uid=16356-6121-1-382278\" target=\"_blank\">Edward Olkowski</a>,\n",
       " <a class=\"ltw-name\" href=\"myresults.aspx?uid=16356-6121-1-382086\" target=\"_blank\">James Helge</a>,\n",
       " <a class=\"ltw-name\" href=\"myresults.aspx?uid=16356-6121-1-382118\" target=\"_blank\">James Deacon</a>,\n",
       " <a class=\"ltw-name\" href=\"myresults.aspx?uid=16356-6121-1-382156\" target=\"_blank\">Jenna Evans</a>,\n",
       " <a class=\"ltw-name\" href=\"myresults.aspx?uid=16356-6121-1-381980\" target=\"_blank\">Jensen Eighmey</a>,\n",
       " <a class=\"ltw-name\" href=\"myresults.aspx?uid=16356-6121-1-382123\" target=\"_blank\">Julia Jaoude</a>,\n",
       " <a class=\"ltw-name\" href=\"myresults.aspx?uid=16356-6121-1-382662\" target=\"_blank\">Jesus Mendez</a>,\n",
       " <a class=\"ltw-name\" href=\"myresults.aspx?uid=16356-6121-1-382085\" target=\"_blank\">Sophie Price</a>,\n",
       " <a class=\"ltw-name\" href=\"myresults.aspx?uid=16356-6121-1-382178\" target=\"_blank\">Erinne Boyd</a>,\n",
       " <a class=\"ltw-name\" href=\"myresults.aspx?uid=16356-6121-1-382027\" target=\"_blank\">Chloe Chak</a>,\n",
       " <a class=\"ltw-name\" href=\"myresults.aspx?uid=16356-6121-1-382659\" target=\"_blank\">Laura Kay</a>,\n",
       " <a class=\"ltw-name\" href=\"myresults.aspx?uid=16356-6121-1-382197\" target=\"_blank\">Doug Riggle</a>]"
      ]
     },
     "execution_count": 30,
     "metadata": {},
     "output_type": "execute_result"
    }
   ],
   "source": [
    "names"
   ]
  }
 ],
 "metadata": {
  "kernelspec": {
   "display_name": "Python 3",
   "language": "python",
   "name": "python3"
  },
  "language_info": {
   "codemirror_mode": {
    "name": "ipython",
    "version": 3
   },
   "file_extension": ".py",
   "mimetype": "text/x-python",
   "name": "python",
   "nbconvert_exporter": "python",
   "pygments_lexer": "ipython3",
   "version": "3.9.6"
  }
 },
 "nbformat": 4,
 "nbformat_minor": 2
}
