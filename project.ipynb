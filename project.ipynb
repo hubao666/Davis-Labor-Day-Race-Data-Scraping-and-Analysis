{
 "cells": [
  {
   "cell_type": "markdown",
   "metadata": {},
   "source": [
    "# Target:\n",
    "- we want to find the most \"value for money\" gaming laptop by sraping the data by searching \"gaming laptop\" on the website \"newegg\"\n",
    "- analysis from different aspects\n",
    "  - graphic card\n",
    "  - display resolution\n",
    "  - price\n",
    "  - item's review rating\n",
    "  - brand\n",
    "- Particular questions we are interested in\n",
    "  - \n",
    "  \n",
    "\n",
    "### data scraping\n",
    "we need two type of functions to aquire the data\n",
    "  - get_links(url) function that collects all the links to all the items in 100 pages from the searching results\n",
    "  - get_info(html_file) a series of functions that collect  information from different aspects that we are interested in about the item. This includes but not limits to:\n",
    "    - get_graphicCard()\n",
    "    - get_resolution()\n",
    "    - get_price()\n",
    "    - get_review()\n",
    "    - get_brand\n",
    "\n",
    "Layout:\n",
    "  - First: get links to all items by using the function get_links(). This will return a list of links that we are interested in\n",
    "  - Second: apply \"get_info()\" functions to each link in the list\n",
    "\n",
    "### data processing\n",
    "\n",
    "\n",
    "### data analysis"
   ]
  }
 ],
 "metadata": {
  "language_info": {
   "name": "python"
  }
 },
 "nbformat": 4,
 "nbformat_minor": 2
}
