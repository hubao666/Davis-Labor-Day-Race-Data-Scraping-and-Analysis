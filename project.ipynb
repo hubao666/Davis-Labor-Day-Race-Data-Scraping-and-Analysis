{
 "cells": [
  {
   "cell_type": "markdown",
   "metadata": {},
   "source": [
    "# Target:\n",
    "- we want to find the most \"value for money\" gaming laptop by sraping the data by searching \"gaming laptop\" on the website \"newegg\"\n",
    "- analysis from different aspects\n",
    "  - graphic card\n",
    "  - display resolution\n",
    "  - price\n",
    "  - item's review rating\n",
    "  - brand\n",
    "- Particular questions we are interested in\n",
    "  - question 1\n",
    "  - question 2\n",
    "  - question 3\n",
    "  \n"
   ]
  },
  {
   "cell_type": "markdown",
   "metadata": {},
   "source": [
    "## Data Scraping\n",
    "we need two type of functions to aquire the data\n",
    "  - `get_links(url)` function that collects all the links to all the items in 100 pages from the searching results\n",
    "  - `get_info(html_file)` a series of functions that collect information from different aspects that we are interested in about the item. This includes but not limits to:\n",
    "    - get_product_name()\n",
    "    - get_graphicCard()\n",
    "    - get_resolution()\n",
    "    - get_price()\n",
    "    - get_review()\n",
    "    - get_brand\n",
    "\n",
    "### Specific Layout:\n",
    "- Create list type or panda series type variables that store different information about the product(e.g, product name, graphic card, price ...), also a list of links.\n",
    "- Get links to all items by using the function `get_links(url)` given a url to the searching result of \"gaming laptop\". \n",
    "  - This function will return a list of links that we are interested in.\n",
    "- For each link in the list:\n",
    "  - Get the corresponding html file\n",
    "  - Get information by using functions `get_info(html_file)` given a html file\n",
    "    - Each of these functions will return a element that is \"compatible\" to it's list\n",
    "      - (e.g, `get_price()` will return the price of the item; `get_graphicCard()` will return the graphic card of the item)\n",
    "    - After returning, append the returned value to the cooresponding list.\n",
    "- Combine all the lists (or panda series) to panda dataframe\n",
    "  \n"
   ]
  },
  {
   "cell_type": "markdown",
   "metadata": {},
   "source": [
    "## Data Processing\n",
    "- TBD\n"
   ]
  },
  {
   "cell_type": "markdown",
   "metadata": {},
   "source": [
    "\n",
    "## Data Analysis\n",
    "- TBD"
   ]
  }
 ],
 "metadata": {
  "language_info": {
   "name": "python"
  }
 },
 "nbformat": 4,
 "nbformat_minor": 2
}
